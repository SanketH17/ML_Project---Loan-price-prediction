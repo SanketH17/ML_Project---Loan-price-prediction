{
  "nbformat": 4,
  "nbformat_minor": 5,
  "metadata": {
    "kernelspec": {
      "display_name": "Python 3",
      "language": "python",
      "name": "python3"
    },
    "language_info": {
      "codemirror_mode": {
        "name": "ipython",
        "version": 3
      },
      "file_extension": ".py",
      "mimetype": "text/x-python",
      "name": "python",
      "nbconvert_exporter": "python",
      "pygments_lexer": "ipython3",
      "version": "3.7.10"
    },
    "papermill": {
      "default_parameters": {},
      "duration": 33.051879,
      "end_time": "2021-04-22T06:56:04.950232",
      "environment_variables": {},
      "exception": null,
      "input_path": "__notebook__.ipynb",
      "output_path": "__notebook__.ipynb",
      "parameters": {},
      "start_time": "2021-04-22T06:55:31.898353",
      "version": "2.3.3"
    },
    "colab": {
      "name": "loan-status-eda-classification.ipynb",
      "provenance": [],
      "collapsed_sections": [
        "drawn-isolation",
        "adjusted-fossil",
        "color-finding",
        "innocent-fighter",
        "forbidden-carry",
        "faced-labor",
        "united-surgeon",
        "rocky-hayes",
        "african-american",
        "upset-expert",
        "complete-wagner"
      ],
      "include_colab_link": true
    }
  },
  "cells": [
    {
      "cell_type": "markdown",
      "metadata": {
        "id": "view-in-github",
        "colab_type": "text"
      },
      "source": [
        "<a href=\"https://colab.research.google.com/github/SanketH17/ML_Project---Loan-price-prediction/blob/main/loan_status_prediction.ipynb\" target=\"_parent\"><img src=\"https://colab.research.google.com/assets/colab-badge.svg\" alt=\"Open In Colab\"/></a>"
      ]
    },
    {
      "cell_type": "markdown",
      "metadata": {
        "papermill": {
          "duration": 0.057908,
          "end_time": "2021-04-22T06:55:40.673605",
          "exception": false,
          "start_time": "2021-04-22T06:55:40.615697",
          "status": "completed"
        },
        "tags": [],
        "id": "selected-lambda"
      },
      "source": [
        "# Loan Status Prediction \n",
        "\n",
        "Company wants to automate the loan eligibility process (real time) based on customer detail provided while filling online application form. These details are Gender, Marital Status, Education, Number of Dependents, Income, Loan Amount, Credit History and others. To automate this process, they have given a problem to identify the customers segments, those are eligible for loan amount so that they can specifically target these customers. Here they have provided a partial data set.\n"
      ],
      "id": "selected-lambda"
    },
    {
      "cell_type": "markdown",
      "metadata": {
        "papermill": {
          "duration": 0.05495,
          "end_time": "2021-04-22T06:55:40.783816",
          "exception": false,
          "start_time": "2021-04-22T06:55:40.728866",
          "status": "completed"
        },
        "tags": [],
        "id": "cardiovascular-assumption"
      },
      "source": [
        "### Importing Libraries"
      ],
      "id": "cardiovascular-assumption"
    },
    {
      "cell_type": "code",
      "metadata": {
        "execution": {
          "iopub.execute_input": "2021-04-22T06:55:40.902751Z",
          "iopub.status.busy": "2021-04-22T06:55:40.901581Z",
          "iopub.status.idle": "2021-04-22T06:55:41.897517Z",
          "shell.execute_reply": "2021-04-22T06:55:41.896670Z"
        },
        "papermill": {
          "duration": 1.058537,
          "end_time": "2021-04-22T06:55:41.897699",
          "exception": false,
          "start_time": "2021-04-22T06:55:40.839162",
          "status": "completed"
        },
        "tags": [],
        "id": "fourth-travel"
      },
      "source": [
        "import  numpy as np\n",
        "import  pandas as pd\n",
        "import seaborn as sns\n",
        "import matplotlib.pyplot as plt\n",
        "%matplotlib inline"
      ],
      "id": "fourth-travel",
      "execution_count": 61,
      "outputs": []
    },
    {
      "cell_type": "code",
      "metadata": {
        "execution": {
          "iopub.execute_input": "2021-04-22T06:55:42.015692Z",
          "iopub.status.busy": "2021-04-22T06:55:42.014643Z",
          "iopub.status.idle": "2021-04-22T06:55:42.539841Z",
          "shell.execute_reply": "2021-04-22T06:55:42.540376Z"
        },
        "papermill": {
          "duration": 0.586497,
          "end_time": "2021-04-22T06:55:42.540572",
          "exception": false,
          "start_time": "2021-04-22T06:55:41.954075",
          "status": "completed"
        },
        "scrolled": true,
        "tags": [],
        "id": "expressed-huntington"
      },
      "source": [
        "from sklearn.model_selection import train_test_split\n",
        "from sklearn import feature_selection\n",
        "from sklearn import model_selection\n",
        "from sklearn.metrics import accuracy_score \n",
        "from sklearn.linear_model import LogisticRegression\n",
        "from sklearn.svm import SVC\n",
        "from sklearn.naive_bayes import GaussianNB\n",
        "from sklearn.ensemble import RandomForestClassifier,GradientBoostingClassifier\n",
        "from sklearn.neighbors import KNeighborsClassifier\n",
        "\n",
        "import warnings\n",
        "warnings.filterwarnings('ignore')"
      ],
      "id": "expressed-huntington",
      "execution_count": 62,
      "outputs": []
    },
    {
      "cell_type": "markdown",
      "metadata": {
        "papermill": {
          "duration": 0.057276,
          "end_time": "2021-04-22T06:55:42.653665",
          "exception": false,
          "start_time": "2021-04-22T06:55:42.596389",
          "status": "completed"
        },
        "tags": [],
        "id": "narrow-wages"
      },
      "source": [
        "### Importing data "
      ],
      "id": "narrow-wages"
    },
    {
      "cell_type": "code",
      "metadata": {
        "execution": {
          "iopub.execute_input": "2021-04-22T06:55:42.769500Z",
          "iopub.status.busy": "2021-04-22T06:55:42.768507Z",
          "iopub.status.idle": "2021-04-22T06:55:42.808090Z",
          "shell.execute_reply": "2021-04-22T06:55:42.807517Z"
        },
        "papermill": {
          "duration": 0.098945,
          "end_time": "2021-04-22T06:55:42.808248",
          "exception": false,
          "start_time": "2021-04-22T06:55:42.709303",
          "status": "completed"
        },
        "tags": [],
        "id": "nasty-advisory"
      },
      "source": [
        "train = pd.read_csv('train_u6lujuX_CVtuZ9i.csv')\n",
        "test = pd.read_csv('test_Y3wMUE5_7gLdaTN.csv')"
      ],
      "id": "nasty-advisory",
      "execution_count": 3,
      "outputs": []
    },
    {
      "cell_type": "code",
      "metadata": {
        "execution": {
          "iopub.execute_input": "2021-04-22T06:55:42.928543Z",
          "iopub.status.busy": "2021-04-22T06:55:42.927642Z",
          "iopub.status.idle": "2021-04-22T06:55:42.932376Z",
          "shell.execute_reply": "2021-04-22T06:55:42.933200Z"
        },
        "papermill": {
          "duration": 0.068252,
          "end_time": "2021-04-22T06:55:42.933479",
          "exception": false,
          "start_time": "2021-04-22T06:55:42.865227",
          "status": "completed"
        },
        "tags": [],
        "colab": {
          "base_uri": "https://localhost:8080/"
        },
        "id": "resistant-tennessee",
        "outputId": "a17d0000-fe7b-4635-f26d-d3c8ddd59b64"
      },
      "source": [
        "print (train.shape, test.shape)"
      ],
      "id": "resistant-tennessee",
      "execution_count": 4,
      "outputs": [
        {
          "output_type": "stream",
          "text": [
            "(614, 13) (367, 12)\n"
          ],
          "name": "stdout"
        }
      ]
    },
    {
      "cell_type": "markdown",
      "metadata": {
        "papermill": {
          "duration": 0.059834,
          "end_time": "2021-04-22T06:55:43.051651",
          "exception": false,
          "start_time": "2021-04-22T06:55:42.991817",
          "status": "completed"
        },
        "tags": [],
        "id": "early-permit"
      },
      "source": [
        "### Viewing the train dataset"
      ],
      "id": "early-permit"
    },
    {
      "cell_type": "code",
      "metadata": {
        "execution": {
          "iopub.execute_input": "2021-04-22T06:55:43.180066Z",
          "iopub.status.busy": "2021-04-22T06:55:43.179380Z",
          "iopub.status.idle": "2021-04-22T06:55:43.211753Z",
          "shell.execute_reply": "2021-04-22T06:55:43.211165Z"
        },
        "papermill": {
          "duration": 0.103383,
          "end_time": "2021-04-22T06:55:43.211939",
          "exception": false,
          "start_time": "2021-04-22T06:55:43.108556",
          "status": "completed"
        },
        "tags": [],
        "colab": {
          "base_uri": "https://localhost:8080/",
          "height": 356
        },
        "id": "connected-honey",
        "outputId": "979085c1-4940-48ad-a40c-0f75e39437e0"
      },
      "source": [
        "train.head(10) "
      ],
      "id": "connected-honey",
      "execution_count": 63,
      "outputs": [
        {
          "output_type": "execute_result",
          "data": {
            "text/html": [
              "<div>\n",
              "<style scoped>\n",
              "    .dataframe tbody tr th:only-of-type {\n",
              "        vertical-align: middle;\n",
              "    }\n",
              "\n",
              "    .dataframe tbody tr th {\n",
              "        vertical-align: top;\n",
              "    }\n",
              "\n",
              "    .dataframe thead th {\n",
              "        text-align: right;\n",
              "    }\n",
              "</style>\n",
              "<table border=\"1\" class=\"dataframe\">\n",
              "  <thead>\n",
              "    <tr style=\"text-align: right;\">\n",
              "      <th></th>\n",
              "      <th>Dependents</th>\n",
              "      <th>Education</th>\n",
              "      <th>ApplicantIncome</th>\n",
              "      <th>CoapplicantIncome</th>\n",
              "      <th>LoanAmount</th>\n",
              "      <th>Credit_History</th>\n",
              "      <th>Property_Area</th>\n",
              "      <th>Loan_Status</th>\n",
              "      <th>Male</th>\n",
              "      <th>employed_Yes</th>\n",
              "      <th>married_Yes</th>\n",
              "    </tr>\n",
              "  </thead>\n",
              "  <tbody>\n",
              "    <tr>\n",
              "      <th>0</th>\n",
              "      <td>0</td>\n",
              "      <td>0</td>\n",
              "      <td>5849</td>\n",
              "      <td>0.0</td>\n",
              "      <td>146</td>\n",
              "      <td>1.0</td>\n",
              "      <td>0</td>\n",
              "      <td>1</td>\n",
              "      <td>1</td>\n",
              "      <td>0</td>\n",
              "      <td>0</td>\n",
              "    </tr>\n",
              "    <tr>\n",
              "      <th>1</th>\n",
              "      <td>1</td>\n",
              "      <td>0</td>\n",
              "      <td>4583</td>\n",
              "      <td>1508.0</td>\n",
              "      <td>128</td>\n",
              "      <td>1.0</td>\n",
              "      <td>2</td>\n",
              "      <td>0</td>\n",
              "      <td>1</td>\n",
              "      <td>0</td>\n",
              "      <td>1</td>\n",
              "    </tr>\n",
              "    <tr>\n",
              "      <th>2</th>\n",
              "      <td>0</td>\n",
              "      <td>0</td>\n",
              "      <td>3000</td>\n",
              "      <td>0.0</td>\n",
              "      <td>66</td>\n",
              "      <td>1.0</td>\n",
              "      <td>0</td>\n",
              "      <td>1</td>\n",
              "      <td>1</td>\n",
              "      <td>1</td>\n",
              "      <td>1</td>\n",
              "    </tr>\n",
              "    <tr>\n",
              "      <th>3</th>\n",
              "      <td>0</td>\n",
              "      <td>1</td>\n",
              "      <td>2583</td>\n",
              "      <td>2358.0</td>\n",
              "      <td>120</td>\n",
              "      <td>1.0</td>\n",
              "      <td>0</td>\n",
              "      <td>1</td>\n",
              "      <td>1</td>\n",
              "      <td>0</td>\n",
              "      <td>1</td>\n",
              "    </tr>\n",
              "    <tr>\n",
              "      <th>4</th>\n",
              "      <td>0</td>\n",
              "      <td>0</td>\n",
              "      <td>6000</td>\n",
              "      <td>0.0</td>\n",
              "      <td>141</td>\n",
              "      <td>1.0</td>\n",
              "      <td>0</td>\n",
              "      <td>1</td>\n",
              "      <td>1</td>\n",
              "      <td>0</td>\n",
              "      <td>0</td>\n",
              "    </tr>\n",
              "    <tr>\n",
              "      <th>5</th>\n",
              "      <td>2</td>\n",
              "      <td>0</td>\n",
              "      <td>5417</td>\n",
              "      <td>4196.0</td>\n",
              "      <td>267</td>\n",
              "      <td>1.0</td>\n",
              "      <td>0</td>\n",
              "      <td>1</td>\n",
              "      <td>1</td>\n",
              "      <td>1</td>\n",
              "      <td>1</td>\n",
              "    </tr>\n",
              "    <tr>\n",
              "      <th>6</th>\n",
              "      <td>0</td>\n",
              "      <td>1</td>\n",
              "      <td>2333</td>\n",
              "      <td>1516.0</td>\n",
              "      <td>95</td>\n",
              "      <td>1.0</td>\n",
              "      <td>0</td>\n",
              "      <td>1</td>\n",
              "      <td>1</td>\n",
              "      <td>0</td>\n",
              "      <td>1</td>\n",
              "    </tr>\n",
              "    <tr>\n",
              "      <th>7</th>\n",
              "      <td>3</td>\n",
              "      <td>0</td>\n",
              "      <td>3036</td>\n",
              "      <td>2504.0</td>\n",
              "      <td>158</td>\n",
              "      <td>0.0</td>\n",
              "      <td>1</td>\n",
              "      <td>0</td>\n",
              "      <td>1</td>\n",
              "      <td>0</td>\n",
              "      <td>1</td>\n",
              "    </tr>\n",
              "    <tr>\n",
              "      <th>8</th>\n",
              "      <td>2</td>\n",
              "      <td>0</td>\n",
              "      <td>4006</td>\n",
              "      <td>1526.0</td>\n",
              "      <td>168</td>\n",
              "      <td>1.0</td>\n",
              "      <td>0</td>\n",
              "      <td>1</td>\n",
              "      <td>1</td>\n",
              "      <td>0</td>\n",
              "      <td>1</td>\n",
              "    </tr>\n",
              "    <tr>\n",
              "      <th>9</th>\n",
              "      <td>1</td>\n",
              "      <td>0</td>\n",
              "      <td>12841</td>\n",
              "      <td>10968.0</td>\n",
              "      <td>349</td>\n",
              "      <td>1.0</td>\n",
              "      <td>1</td>\n",
              "      <td>0</td>\n",
              "      <td>1</td>\n",
              "      <td>0</td>\n",
              "      <td>1</td>\n",
              "    </tr>\n",
              "  </tbody>\n",
              "</table>\n",
              "</div>"
            ],
            "text/plain": [
              "   Dependents  Education  ApplicantIncome  ...  Male  employed_Yes  married_Yes\n",
              "0           0          0             5849  ...     1             0            0\n",
              "1           1          0             4583  ...     1             0            1\n",
              "2           0          0             3000  ...     1             1            1\n",
              "3           0          1             2583  ...     1             0            1\n",
              "4           0          0             6000  ...     1             0            0\n",
              "5           2          0             5417  ...     1             1            1\n",
              "6           0          1             2333  ...     1             0            1\n",
              "7           3          0             3036  ...     1             0            1\n",
              "8           2          0             4006  ...     1             0            1\n",
              "9           1          0            12841  ...     1             0            1\n",
              "\n",
              "[10 rows x 11 columns]"
            ]
          },
          "metadata": {
            "tags": []
          },
          "execution_count": 63
        }
      ]
    },
    {
      "cell_type": "code",
      "metadata": {
        "execution": {
          "iopub.execute_input": "2021-04-22T06:55:43.353367Z",
          "iopub.status.busy": "2021-04-22T06:55:43.341693Z",
          "iopub.status.idle": "2021-04-22T06:55:43.358469Z",
          "shell.execute_reply": "2021-04-22T06:55:43.359610Z"
        },
        "papermill": {
          "duration": 0.086657,
          "end_time": "2021-04-22T06:55:43.359966",
          "exception": false,
          "start_time": "2021-04-22T06:55:43.273309",
          "status": "completed"
        },
        "tags": [],
        "colab": {
          "base_uri": "https://localhost:8080/"
        },
        "id": "aware-fishing",
        "outputId": "cdcbc987-e1f6-4c5a-f0a3-fa11814dd5d1"
      },
      "source": [
        "train.info() "
      ],
      "id": "aware-fishing",
      "execution_count": 64,
      "outputs": [
        {
          "output_type": "stream",
          "text": [
            "<class 'pandas.core.frame.DataFrame'>\n",
            "RangeIndex: 614 entries, 0 to 613\n",
            "Data columns (total 11 columns):\n",
            " #   Column             Non-Null Count  Dtype  \n",
            "---  ------             --------------  -----  \n",
            " 0   Dependents         614 non-null    int64  \n",
            " 1   Education          614 non-null    int64  \n",
            " 2   ApplicantIncome    614 non-null    int64  \n",
            " 3   CoapplicantIncome  614 non-null    float64\n",
            " 4   LoanAmount         614 non-null    int64  \n",
            " 5   Credit_History     614 non-null    float64\n",
            " 6   Property_Area      614 non-null    int64  \n",
            " 7   Loan_Status        614 non-null    int64  \n",
            " 8   Male               614 non-null    uint8  \n",
            " 9   employed_Yes       614 non-null    uint8  \n",
            " 10  married_Yes        614 non-null    uint8  \n",
            "dtypes: float64(2), int64(6), uint8(3)\n",
            "memory usage: 40.3 KB\n"
          ],
          "name": "stdout"
        }
      ]
    },
    {
      "cell_type": "code",
      "metadata": {
        "execution": {
          "iopub.execute_input": "2021-04-22T06:55:43.487614Z",
          "iopub.status.busy": "2021-04-22T06:55:43.486706Z",
          "iopub.status.idle": "2021-04-22T06:55:43.491097Z",
          "shell.execute_reply": "2021-04-22T06:55:43.490505Z"
        },
        "papermill": {
          "duration": 0.072832,
          "end_time": "2021-04-22T06:55:43.491232",
          "exception": false,
          "start_time": "2021-04-22T06:55:43.418400",
          "status": "completed"
        },
        "scrolled": true,
        "tags": [],
        "colab": {
          "base_uri": "https://localhost:8080/"
        },
        "id": "apart-polls",
        "outputId": "40bc580f-8edd-413d-d9d8-a466c2553d5d"
      },
      "source": [
        "train.isnull().sum()"
      ],
      "id": "apart-polls",
      "execution_count": 65,
      "outputs": [
        {
          "output_type": "execute_result",
          "data": {
            "text/plain": [
              "Dependents           0\n",
              "Education            0\n",
              "ApplicantIncome      0\n",
              "CoapplicantIncome    0\n",
              "LoanAmount           0\n",
              "Credit_History       0\n",
              "Property_Area        0\n",
              "Loan_Status          0\n",
              "Male                 0\n",
              "employed_Yes         0\n",
              "married_Yes          0\n",
              "dtype: int64"
            ]
          },
          "metadata": {
            "tags": []
          },
          "execution_count": 65
        }
      ]
    },
    {
      "cell_type": "markdown",
      "metadata": {
        "papermill": {
          "duration": 0.057755,
          "end_time": "2021-04-22T06:55:43.607607",
          "exception": false,
          "start_time": "2021-04-22T06:55:43.549852",
          "status": "completed"
        },
        "tags": [],
        "id": "atomic-optics"
      },
      "source": [
        "### Viewing the test dataset"
      ],
      "id": "atomic-optics"
    },
    {
      "cell_type": "code",
      "metadata": {
        "execution": {
          "iopub.execute_input": "2021-04-22T06:55:43.743341Z",
          "iopub.status.busy": "2021-04-22T06:55:43.742410Z",
          "iopub.status.idle": "2021-04-22T06:55:43.747154Z",
          "shell.execute_reply": "2021-04-22T06:55:43.746619Z"
        },
        "papermill": {
          "duration": 0.081767,
          "end_time": "2021-04-22T06:55:43.747301",
          "exception": false,
          "start_time": "2021-04-22T06:55:43.665534",
          "status": "completed"
        },
        "tags": [],
        "colab": {
          "base_uri": "https://localhost:8080/",
          "height": 356
        },
        "id": "directed-monte",
        "outputId": "f30e8e15-e9f2-4e70-e04e-2c4fbe745fb6"
      },
      "source": [
        "test.head(10)"
      ],
      "id": "directed-monte",
      "execution_count": 66,
      "outputs": [
        {
          "output_type": "execute_result",
          "data": {
            "text/html": [
              "<div>\n",
              "<style scoped>\n",
              "    .dataframe tbody tr th:only-of-type {\n",
              "        vertical-align: middle;\n",
              "    }\n",
              "\n",
              "    .dataframe tbody tr th {\n",
              "        vertical-align: top;\n",
              "    }\n",
              "\n",
              "    .dataframe thead th {\n",
              "        text-align: right;\n",
              "    }\n",
              "</style>\n",
              "<table border=\"1\" class=\"dataframe\">\n",
              "  <thead>\n",
              "    <tr style=\"text-align: right;\">\n",
              "      <th></th>\n",
              "      <th>Loan_ID</th>\n",
              "      <th>Dependents</th>\n",
              "      <th>Education</th>\n",
              "      <th>ApplicantIncome</th>\n",
              "      <th>CoapplicantIncome</th>\n",
              "      <th>LoanAmount</th>\n",
              "      <th>Credit_History</th>\n",
              "      <th>Property_Area</th>\n",
              "      <th>Male</th>\n",
              "      <th>employed_Yes</th>\n",
              "      <th>married_Yes</th>\n",
              "    </tr>\n",
              "  </thead>\n",
              "  <tbody>\n",
              "    <tr>\n",
              "      <th>0</th>\n",
              "      <td>LP001015</td>\n",
              "      <td>0</td>\n",
              "      <td>0</td>\n",
              "      <td>5720</td>\n",
              "      <td>0</td>\n",
              "      <td>110</td>\n",
              "      <td>1.0</td>\n",
              "      <td>0</td>\n",
              "      <td>1</td>\n",
              "      <td>0</td>\n",
              "      <td>1</td>\n",
              "    </tr>\n",
              "    <tr>\n",
              "      <th>1</th>\n",
              "      <td>LP001022</td>\n",
              "      <td>1</td>\n",
              "      <td>0</td>\n",
              "      <td>3076</td>\n",
              "      <td>1500</td>\n",
              "      <td>126</td>\n",
              "      <td>1.0</td>\n",
              "      <td>0</td>\n",
              "      <td>1</td>\n",
              "      <td>0</td>\n",
              "      <td>1</td>\n",
              "    </tr>\n",
              "    <tr>\n",
              "      <th>2</th>\n",
              "      <td>LP001031</td>\n",
              "      <td>2</td>\n",
              "      <td>0</td>\n",
              "      <td>5000</td>\n",
              "      <td>1800</td>\n",
              "      <td>208</td>\n",
              "      <td>1.0</td>\n",
              "      <td>0</td>\n",
              "      <td>1</td>\n",
              "      <td>0</td>\n",
              "      <td>1</td>\n",
              "    </tr>\n",
              "    <tr>\n",
              "      <th>3</th>\n",
              "      <td>LP001035</td>\n",
              "      <td>2</td>\n",
              "      <td>0</td>\n",
              "      <td>2340</td>\n",
              "      <td>2546</td>\n",
              "      <td>100</td>\n",
              "      <td>1.0</td>\n",
              "      <td>0</td>\n",
              "      <td>1</td>\n",
              "      <td>0</td>\n",
              "      <td>1</td>\n",
              "    </tr>\n",
              "    <tr>\n",
              "      <th>4</th>\n",
              "      <td>LP001051</td>\n",
              "      <td>0</td>\n",
              "      <td>1</td>\n",
              "      <td>3276</td>\n",
              "      <td>0</td>\n",
              "      <td>78</td>\n",
              "      <td>1.0</td>\n",
              "      <td>0</td>\n",
              "      <td>1</td>\n",
              "      <td>0</td>\n",
              "      <td>0</td>\n",
              "    </tr>\n",
              "    <tr>\n",
              "      <th>5</th>\n",
              "      <td>LP001054</td>\n",
              "      <td>0</td>\n",
              "      <td>1</td>\n",
              "      <td>2165</td>\n",
              "      <td>3422</td>\n",
              "      <td>152</td>\n",
              "      <td>1.0</td>\n",
              "      <td>0</td>\n",
              "      <td>1</td>\n",
              "      <td>1</td>\n",
              "      <td>1</td>\n",
              "    </tr>\n",
              "    <tr>\n",
              "      <th>6</th>\n",
              "      <td>LP001055</td>\n",
              "      <td>1</td>\n",
              "      <td>1</td>\n",
              "      <td>2226</td>\n",
              "      <td>0</td>\n",
              "      <td>59</td>\n",
              "      <td>1.0</td>\n",
              "      <td>1</td>\n",
              "      <td>0</td>\n",
              "      <td>0</td>\n",
              "      <td>0</td>\n",
              "    </tr>\n",
              "    <tr>\n",
              "      <th>7</th>\n",
              "      <td>LP001056</td>\n",
              "      <td>2</td>\n",
              "      <td>1</td>\n",
              "      <td>3881</td>\n",
              "      <td>0</td>\n",
              "      <td>147</td>\n",
              "      <td>0.0</td>\n",
              "      <td>2</td>\n",
              "      <td>1</td>\n",
              "      <td>0</td>\n",
              "      <td>1</td>\n",
              "    </tr>\n",
              "    <tr>\n",
              "      <th>8</th>\n",
              "      <td>LP001059</td>\n",
              "      <td>2</td>\n",
              "      <td>0</td>\n",
              "      <td>13633</td>\n",
              "      <td>0</td>\n",
              "      <td>280</td>\n",
              "      <td>1.0</td>\n",
              "      <td>0</td>\n",
              "      <td>1</td>\n",
              "      <td>0</td>\n",
              "      <td>1</td>\n",
              "    </tr>\n",
              "    <tr>\n",
              "      <th>9</th>\n",
              "      <td>LP001067</td>\n",
              "      <td>0</td>\n",
              "      <td>1</td>\n",
              "      <td>2400</td>\n",
              "      <td>2400</td>\n",
              "      <td>123</td>\n",
              "      <td>1.0</td>\n",
              "      <td>1</td>\n",
              "      <td>1</td>\n",
              "      <td>0</td>\n",
              "      <td>0</td>\n",
              "    </tr>\n",
              "  </tbody>\n",
              "</table>\n",
              "</div>"
            ],
            "text/plain": [
              "    Loan_ID  Dependents  Education  ...  Male  employed_Yes  married_Yes\n",
              "0  LP001015           0          0  ...     1             0            1\n",
              "1  LP001022           1          0  ...     1             0            1\n",
              "2  LP001031           2          0  ...     1             0            1\n",
              "3  LP001035           2          0  ...     1             0            1\n",
              "4  LP001051           0          1  ...     1             0            0\n",
              "5  LP001054           0          1  ...     1             1            1\n",
              "6  LP001055           1          1  ...     0             0            0\n",
              "7  LP001056           2          1  ...     1             0            1\n",
              "8  LP001059           2          0  ...     1             0            1\n",
              "9  LP001067           0          1  ...     1             0            0\n",
              "\n",
              "[10 rows x 11 columns]"
            ]
          },
          "metadata": {
            "tags": []
          },
          "execution_count": 66
        }
      ]
    },
    {
      "cell_type": "code",
      "metadata": {
        "execution": {
          "iopub.execute_input": "2021-04-22T06:55:43.881411Z",
          "iopub.status.busy": "2021-04-22T06:55:43.875278Z",
          "iopub.status.idle": "2021-04-22T06:55:43.885673Z",
          "shell.execute_reply": "2021-04-22T06:55:43.886455Z"
        },
        "papermill": {
          "duration": 0.08086,
          "end_time": "2021-04-22T06:55:43.886698",
          "exception": false,
          "start_time": "2021-04-22T06:55:43.805838",
          "status": "completed"
        },
        "tags": [],
        "colab": {
          "base_uri": "https://localhost:8080/"
        },
        "id": "smoking-danger",
        "outputId": "ff811d3d-d9b1-427e-fb89-dcf39d9460e3"
      },
      "source": [
        "test.info()"
      ],
      "id": "smoking-danger",
      "execution_count": 9,
      "outputs": [
        {
          "output_type": "stream",
          "text": [
            "<class 'pandas.core.frame.DataFrame'>\n",
            "RangeIndex: 367 entries, 0 to 366\n",
            "Data columns (total 12 columns):\n",
            " #   Column             Non-Null Count  Dtype  \n",
            "---  ------             --------------  -----  \n",
            " 0   Loan_ID            367 non-null    object \n",
            " 1   Gender             356 non-null    object \n",
            " 2   Married            367 non-null    object \n",
            " 3   Dependents         357 non-null    object \n",
            " 4   Education          367 non-null    object \n",
            " 5   Self_Employed      344 non-null    object \n",
            " 6   ApplicantIncome    367 non-null    int64  \n",
            " 7   CoapplicantIncome  367 non-null    int64  \n",
            " 8   LoanAmount         362 non-null    float64\n",
            " 9   Loan_Amount_Term   361 non-null    float64\n",
            " 10  Credit_History     338 non-null    float64\n",
            " 11  Property_Area      367 non-null    object \n",
            "dtypes: float64(3), int64(2), object(7)\n",
            "memory usage: 34.5+ KB\n"
          ],
          "name": "stdout"
        }
      ]
    },
    {
      "cell_type": "code",
      "metadata": {
        "execution": {
          "iopub.execute_input": "2021-04-22T06:55:44.016230Z",
          "iopub.status.busy": "2021-04-22T06:55:44.015269Z",
          "iopub.status.idle": "2021-04-22T06:55:44.019679Z",
          "shell.execute_reply": "2021-04-22T06:55:44.019148Z"
        },
        "papermill": {
          "duration": 0.072264,
          "end_time": "2021-04-22T06:55:44.019833",
          "exception": false,
          "start_time": "2021-04-22T06:55:43.947569",
          "status": "completed"
        },
        "tags": [],
        "colab": {
          "base_uri": "https://localhost:8080/"
        },
        "id": "increased-difficulty",
        "outputId": "7185cc55-59b4-4be6-f40d-a0931faab9bf"
      },
      "source": [
        "test.isnull().sum()"
      ],
      "id": "increased-difficulty",
      "execution_count": 10,
      "outputs": [
        {
          "output_type": "execute_result",
          "data": {
            "text/plain": [
              "Loan_ID               0\n",
              "Gender               11\n",
              "Married               0\n",
              "Dependents           10\n",
              "Education             0\n",
              "Self_Employed        23\n",
              "ApplicantIncome       0\n",
              "CoapplicantIncome     0\n",
              "LoanAmount            5\n",
              "Loan_Amount_Term      6\n",
              "Credit_History       29\n",
              "Property_Area         0\n",
              "dtype: int64"
            ]
          },
          "metadata": {
            "tags": []
          },
          "execution_count": 10
        }
      ]
    },
    {
      "cell_type": "markdown",
      "metadata": {
        "papermill": {
          "duration": 0.059618,
          "end_time": "2021-04-22T06:55:44.138869",
          "exception": false,
          "start_time": "2021-04-22T06:55:44.079251",
          "status": "completed"
        },
        "tags": [],
        "id": "drawn-isolation"
      },
      "source": [
        "### Exploring and Preparing the data"
      ],
      "id": "drawn-isolation"
    },
    {
      "cell_type": "code",
      "metadata": {
        "execution": {
          "iopub.execute_input": "2021-04-22T06:55:44.284152Z",
          "iopub.status.busy": "2021-04-22T06:55:44.283476Z",
          "iopub.status.idle": "2021-04-22T06:55:44.288585Z",
          "shell.execute_reply": "2021-04-22T06:55:44.289125Z"
        },
        "papermill": {
          "duration": 0.088702,
          "end_time": "2021-04-22T06:55:44.289300",
          "exception": false,
          "start_time": "2021-04-22T06:55:44.200598",
          "status": "completed"
        },
        "tags": [],
        "colab": {
          "base_uri": "https://localhost:8080/"
        },
        "id": "vulnerable-broadcasting",
        "outputId": "d1dc187a-cd35-4714-9db6-408c066eefa6"
      },
      "source": [
        "data = [train,test]\n",
        "for dataset in data:\n",
        "    #Filter categorical variables\n",
        "    categorical_columns = [x for x in dataset.dtypes.index if dataset.dtypes[x]=='object']\n",
        "    # Exclude ID cols and source:\n",
        "    categorical_columns = [x for x in categorical_columns if x not in ['Loan_ID' ]]\n",
        "    #Print frequency of categories\n",
        "    \n",
        "for col in categorical_columns:\n",
        "    print ('\\nFrequency of Categories for variable %s'%col)\n",
        "    print (train[col].value_counts())"
      ],
      "id": "vulnerable-broadcasting",
      "execution_count": 11,
      "outputs": [
        {
          "output_type": "stream",
          "text": [
            "\n",
            "Frequency of Categories for variable Gender\n",
            "Male      489\n",
            "Female    112\n",
            "Name: Gender, dtype: int64\n",
            "\n",
            "Frequency of Categories for variable Married\n",
            "Yes    398\n",
            "No     213\n",
            "Name: Married, dtype: int64\n",
            "\n",
            "Frequency of Categories for variable Dependents\n",
            "0     345\n",
            "1     102\n",
            "2     101\n",
            "3+     51\n",
            "Name: Dependents, dtype: int64\n",
            "\n",
            "Frequency of Categories for variable Education\n",
            "Graduate        480\n",
            "Not Graduate    134\n",
            "Name: Education, dtype: int64\n",
            "\n",
            "Frequency of Categories for variable Self_Employed\n",
            "No     500\n",
            "Yes     82\n",
            "Name: Self_Employed, dtype: int64\n",
            "\n",
            "Frequency of Categories for variable Property_Area\n",
            "Semiurban    233\n",
            "Urban        202\n",
            "Rural        179\n",
            "Name: Property_Area, dtype: int64\n"
          ],
          "name": "stdout"
        }
      ]
    },
    {
      "cell_type": "markdown",
      "metadata": {
        "papermill": {
          "duration": 0.059831,
          "end_time": "2021-04-22T06:55:44.408733",
          "exception": false,
          "start_time": "2021-04-22T06:55:44.348902",
          "status": "completed"
        },
        "tags": [],
        "id": "adjusted-fossil"
      },
      "source": [
        "#### Gender"
      ],
      "id": "adjusted-fossil"
    },
    {
      "cell_type": "code",
      "metadata": {
        "execution": {
          "iopub.execute_input": "2021-04-22T06:55:44.540555Z",
          "iopub.status.busy": "2021-04-22T06:55:44.539872Z",
          "iopub.status.idle": "2021-04-22T06:55:44.694816Z",
          "shell.execute_reply": "2021-04-22T06:55:44.695343Z"
        },
        "papermill": {
          "duration": 0.226814,
          "end_time": "2021-04-22T06:55:44.695519",
          "exception": false,
          "start_time": "2021-04-22T06:55:44.468705",
          "status": "completed"
        },
        "tags": [],
        "colab": {
          "base_uri": "https://localhost:8080/",
          "height": 0
        },
        "id": "postal-interference",
        "outputId": "d2f85700-8262-4441-bd13-0170903159c9"
      },
      "source": [
        "sns.countplot(train['Gender'])"
      ],
      "id": "postal-interference",
      "execution_count": 12,
      "outputs": [
        {
          "output_type": "execute_result",
          "data": {
            "text/plain": [
              "<matplotlib.axes._subplots.AxesSubplot at 0x7fa04428e590>"
            ]
          },
          "metadata": {
            "tags": []
          },
          "execution_count": 12
        },
        {
          "output_type": "display_data",
          "data": {
            "image/png": "[encoded data removed]",
            "text/plain": [
              "<Figure size 432x288 with 1 Axes>"
            ]
          },
          "metadata": {
            "tags": [],
            "needs_background": "light"
          }
        }
      ]
    },
    {
      "cell_type": "code",
      "metadata": {
        "execution": {
          "iopub.execute_input": "2021-04-22T06:55:44.820938Z",
          "iopub.status.busy": "2021-04-22T06:55:44.820278Z",
          "iopub.status.idle": "2021-04-22T06:55:44.900741Z",
          "shell.execute_reply": "2021-04-22T06:55:44.899897Z"
        },
        "papermill": {
          "duration": 0.144227,
          "end_time": "2021-04-22T06:55:44.900894",
          "exception": false,
          "start_time": "2021-04-22T06:55:44.756667",
          "status": "completed"
        },
        "tags": [],
        "colab": {
          "base_uri": "https://localhost:8080/",
          "height": 0
        },
        "id": "brave-tuesday",
        "outputId": "6bdda6c3-f925-4f09-9b7d-f3dbe5fa9ac3"
      },
      "source": [
        "pd.crosstab(train.Gender, train.Loan_Status, margins = True)"
      ],
      "id": "brave-tuesday",
      "execution_count": 13,
      "outputs": [
        {
          "output_type": "execute_result",
          "data": {
            "text/html": [
              "<div>\n",
              "<style scoped>\n",
              "    .dataframe tbody tr th:only-of-type {\n",
              "        vertical-align: middle;\n",
              "    }\n",
              "\n",
              "    .dataframe tbody tr th {\n",
              "        vertical-align: top;\n",
              "    }\n",
              "\n",
              "    .dataframe thead th {\n",
              "        text-align: right;\n",
              "    }\n",
              "</style>\n",
              "<table border=\"1\" class=\"dataframe\">\n",
              "  <thead>\n",
              "    <tr style=\"text-align: right;\">\n",
              "      <th>Loan_Status</th>\n",
              "      <th>N</th>\n",
              "      <th>Y</th>\n",
              "      <th>All</th>\n",
              "    </tr>\n",
              "    <tr>\n",
              "      <th>Gender</th>\n",
              "      <th></th>\n",
              "      <th></th>\n",
              "      <th></th>\n",
              "    </tr>\n",
              "  </thead>\n",
              "  <tbody>\n",
              "    <tr>\n",
              "      <th>Female</th>\n",
              "      <td>37</td>\n",
              "      <td>75</td>\n",
              "      <td>112</td>\n",
              "    </tr>\n",
              "    <tr>\n",
              "      <th>Male</th>\n",
              "      <td>150</td>\n",
              "      <td>339</td>\n",
              "      <td>489</td>\n",
              "    </tr>\n",
              "    <tr>\n",
              "      <th>All</th>\n",
              "      <td>187</td>\n",
              "      <td>414</td>\n",
              "      <td>601</td>\n",
              "    </tr>\n",
              "  </tbody>\n",
              "</table>\n",
              "</div>"
            ],
            "text/plain": [
              "Loan_Status    N    Y  All\n",
              "Gender                    \n",
              "Female        37   75  112\n",
              "Male         150  339  489\n",
              "All          187  414  601"
            ]
          },
          "metadata": {
            "tags": []
          },
          "execution_count": 13
        }
      ]
    },
    {
      "cell_type": "markdown",
      "metadata": {
        "papermill": {
          "duration": 0.062891,
          "end_time": "2021-04-22T06:55:45.026127",
          "exception": false,
          "start_time": "2021-04-22T06:55:44.963236",
          "status": "completed"
        },
        "tags": [],
        "id": "noted-vegetable"
      },
      "source": [
        "The male are in large number as compared to female applicants.Also many of them have positive Loan Status. Further Binarization of this feature should be done,"
      ],
      "id": "noted-vegetable"
    },
    {
      "cell_type": "code",
      "metadata": {
        "execution": {
          "iopub.execute_input": "2021-04-22T06:55:45.164576Z",
          "iopub.status.busy": "2021-04-22T06:55:45.163881Z",
          "iopub.status.idle": "2021-04-22T06:55:45.173041Z",
          "shell.execute_reply": "2021-04-22T06:55:45.173650Z"
        },
        "papermill": {
          "duration": 0.082333,
          "end_time": "2021-04-22T06:55:45.173846",
          "exception": false,
          "start_time": "2021-04-22T06:55:45.091513",
          "status": "completed"
        },
        "tags": [],
        "id": "printable-response"
      },
      "source": [
        "train.Gender = train.Gender.fillna(train.Gender.mode())\n",
        "test.Gender = test.Gender.fillna(test.Gender.mode())\n",
        "\n",
        "sex = pd.get_dummies(train['Gender'] , drop_first = True )\n",
        "train.drop(['Gender'], axis = 1 , inplace =True)\n",
        "train = pd.concat([train , sex ] , axis = 1)\n",
        "\n",
        "sex = pd.get_dummies(test['Gender'] , drop_first = True )\n",
        "test.drop(['Gender'], axis = 1 , inplace =True)\n",
        "test = pd.concat([test , sex ] , axis = 1)"
      ],
      "id": "printable-response",
      "execution_count": 14,
      "outputs": []
    },
    {
      "cell_type": "markdown",
      "metadata": {
        "papermill": {
          "duration": 0.063013,
          "end_time": "2021-04-22T06:55:45.298831",
          "exception": false,
          "start_time": "2021-04-22T06:55:45.235818",
          "status": "completed"
        },
        "tags": [],
        "id": "color-finding"
      },
      "source": [
        "#### Dependants"
      ],
      "id": "color-finding"
    },
    {
      "cell_type": "code",
      "metadata": {
        "execution": {
          "iopub.execute_input": "2021-04-22T06:55:45.429889Z",
          "iopub.status.busy": "2021-04-22T06:55:45.429182Z",
          "iopub.status.idle": "2021-04-22T06:55:45.589720Z",
          "shell.execute_reply": "2021-04-22T06:55:45.590368Z"
        },
        "papermill": {
          "duration": 0.228005,
          "end_time": "2021-04-22T06:55:45.590562",
          "exception": false,
          "start_time": "2021-04-22T06:55:45.362557",
          "status": "completed"
        },
        "tags": [],
        "colab": {
          "base_uri": "https://localhost:8080/",
          "height": 0
        },
        "id": "academic-animation",
        "outputId": "6030c3c0-1615-4699-ed6b-5764a6db0402"
      },
      "source": [
        "plt.figure(figsize=(6,6))\n",
        "labels = ['0' , '1', '2' , '3+']\n",
        "explode = (0.05, 0, 0, 0)\n",
        "size = [345 , 102 , 101 , 51]\n",
        "\n",
        "plt.pie(size, explode=explode, labels=labels,\n",
        "        autopct='%1.1f%%', shadow = True, startangle = 90)\n",
        "plt.axis('equal')\n",
        "plt.show()"
      ],
      "id": "academic-animation",
      "execution_count": 15,
      "outputs": [
        {
          "output_type": "display_data",
          "data": {
            "image/png": "[encoded data removed]",
            "text/plain": [
              "<Figure size 432x432 with 1 Axes>"
            ]
          },
          "metadata": {
            "tags": []
          }
        }
      ]
    },
    {
      "cell_type": "code",
      "metadata": {
        "execution": {
          "iopub.execute_input": "2021-04-22T06:55:45.729444Z",
          "iopub.status.busy": "2021-04-22T06:55:45.728728Z",
          "iopub.status.idle": "2021-04-22T06:55:45.737890Z",
          "shell.execute_reply": "2021-04-22T06:55:45.737290Z"
        },
        "papermill": {
          "duration": 0.079304,
          "end_time": "2021-04-22T06:55:45.738039",
          "exception": false,
          "start_time": "2021-04-22T06:55:45.658735",
          "status": "completed"
        },
        "tags": [],
        "colab": {
          "base_uri": "https://localhost:8080/"
        },
        "id": "traditional-backup",
        "outputId": "4ac214d1-2491-47f1-9dbe-8b401f6948a8"
      },
      "source": [
        "train.Dependents.value_counts()"
      ],
      "id": "traditional-backup",
      "execution_count": 16,
      "outputs": [
        {
          "output_type": "execute_result",
          "data": {
            "text/plain": [
              "0     345\n",
              "1     102\n",
              "2     101\n",
              "3+     51\n",
              "Name: Dependents, dtype: int64"
            ]
          },
          "metadata": {
            "tags": []
          },
          "execution_count": 16
        }
      ]
    },
    {
      "cell_type": "code",
      "metadata": {
        "execution": {
          "iopub.execute_input": "2021-04-22T06:55:45.874908Z",
          "iopub.status.busy": "2021-04-22T06:55:45.873046Z",
          "iopub.status.idle": "2021-04-22T06:55:46.031881Z",
          "shell.execute_reply": "2021-04-22T06:55:46.032438Z"
        },
        "papermill": {
          "duration": 0.230245,
          "end_time": "2021-04-22T06:55:46.032618",
          "exception": false,
          "start_time": "2021-04-22T06:55:45.802373",
          "status": "completed"
        },
        "tags": [],
        "colab": {
          "base_uri": "https://localhost:8080/",
          "height": 0
        },
        "id": "independent-tiger",
        "outputId": "b1877a53-e4d8-4391-c3b1-11302cc7a1bd"
      },
      "source": [
        "pd.crosstab(train.Dependents , train.Loan_Status, margins = True)"
      ],
      "id": "independent-tiger",
      "execution_count": 17,
      "outputs": [
        {
          "output_type": "execute_result",
          "data": {
            "text/html": [
              "<div>\n",
              "<style scoped>\n",
              "    .dataframe tbody tr th:only-of-type {\n",
              "        vertical-align: middle;\n",
              "    }\n",
              "\n",
              "    .dataframe tbody tr th {\n",
              "        vertical-align: top;\n",
              "    }\n",
              "\n",
              "    .dataframe thead th {\n",
              "        text-align: right;\n",
              "    }\n",
              "</style>\n",
              "<table border=\"1\" class=\"dataframe\">\n",
              "  <thead>\n",
              "    <tr style=\"text-align: right;\">\n",
              "      <th>Loan_Status</th>\n",
              "      <th>N</th>\n",
              "      <th>Y</th>\n",
              "      <th>All</th>\n",
              "    </tr>\n",
              "    <tr>\n",
              "      <th>Dependents</th>\n",
              "      <th></th>\n",
              "      <th></th>\n",
              "      <th></th>\n",
              "    </tr>\n",
              "  </thead>\n",
              "  <tbody>\n",
              "    <tr>\n",
              "      <th>0</th>\n",
              "      <td>107</td>\n",
              "      <td>238</td>\n",
              "      <td>345</td>\n",
              "    </tr>\n",
              "    <tr>\n",
              "      <th>1</th>\n",
              "      <td>36</td>\n",
              "      <td>66</td>\n",
              "      <td>102</td>\n",
              "    </tr>\n",
              "    <tr>\n",
              "      <th>2</th>\n",
              "      <td>25</td>\n",
              "      <td>76</td>\n",
              "      <td>101</td>\n",
              "    </tr>\n",
              "    <tr>\n",
              "      <th>3+</th>\n",
              "      <td>18</td>\n",
              "      <td>33</td>\n",
              "      <td>51</td>\n",
              "    </tr>\n",
              "    <tr>\n",
              "      <th>All</th>\n",
              "      <td>186</td>\n",
              "      <td>413</td>\n",
              "      <td>599</td>\n",
              "    </tr>\n",
              "  </tbody>\n",
              "</table>\n",
              "</div>"
            ],
            "text/plain": [
              "Loan_Status    N    Y  All\n",
              "Dependents                \n",
              "0            107  238  345\n",
              "1             36   66  102\n",
              "2             25   76  101\n",
              "3+            18   33   51\n",
              "All          186  413  599"
            ]
          },
          "metadata": {
            "tags": []
          },
          "execution_count": 17
        }
      ]
    },
    {
      "cell_type": "markdown",
      "metadata": {
        "papermill": {
          "duration": 0.063785,
          "end_time": "2021-04-22T06:55:46.162275",
          "exception": false,
          "start_time": "2021-04-22T06:55:46.098490",
          "status": "completed"
        },
        "tags": [],
        "id": "modified-graphic"
      },
      "source": [
        "The applicants with highest number of dependants are least in number whereas applicants with no dependance are greatest among these."
      ],
      "id": "modified-graphic"
    },
    {
      "cell_type": "code",
      "metadata": {
        "execution": {
          "iopub.execute_input": "2021-04-22T06:55:46.299445Z",
          "iopub.status.busy": "2021-04-22T06:55:46.298735Z",
          "iopub.status.idle": "2021-04-22T06:55:46.305872Z",
          "shell.execute_reply": "2021-04-22T06:55:46.305253Z"
        },
        "papermill": {
          "duration": 0.079707,
          "end_time": "2021-04-22T06:55:46.306019",
          "exception": false,
          "start_time": "2021-04-22T06:55:46.226312",
          "status": "completed"
        },
        "tags": [],
        "id": "desperate-password"
      },
      "source": [
        "train.Dependents = train.Dependents.fillna(\"0\")\n",
        "test.Dependents = test.Dependents.fillna(\"0\")\n",
        "\n",
        "rpl = {'0':'0', '1':'1', '2':'2', '3+':'3'}\n",
        "\n",
        "train.Dependents = train.Dependents.replace(rpl).astype(int)\n",
        "test.Dependents = test.Dependents.replace(rpl).astype(int)"
      ],
      "id": "desperate-password",
      "execution_count": 18,
      "outputs": []
    },
    {
      "cell_type": "markdown",
      "metadata": {
        "papermill": {
          "duration": 0.064617,
          "end_time": "2021-04-22T06:55:46.434912",
          "exception": false,
          "start_time": "2021-04-22T06:55:46.370295",
          "status": "completed"
        },
        "tags": [],
        "id": "innocent-fighter"
      },
      "source": [
        "#### Credit History"
      ],
      "id": "innocent-fighter"
    },
    {
      "cell_type": "code",
      "metadata": {
        "execution": {
          "iopub.execute_input": "2021-04-22T06:55:46.567411Z",
          "iopub.status.busy": "2021-04-22T06:55:46.566703Z",
          "iopub.status.idle": "2021-04-22T06:55:46.681127Z",
          "shell.execute_reply": "2021-04-22T06:55:46.680511Z"
        },
        "papermill": {
          "duration": 0.181704,
          "end_time": "2021-04-22T06:55:46.681276",
          "exception": false,
          "start_time": "2021-04-22T06:55:46.499572",
          "status": "completed"
        },
        "tags": [],
        "colab": {
          "base_uri": "https://localhost:8080/",
          "height": 0
        },
        "id": "labeled-wealth",
        "outputId": "37c166f6-2e9c-41c8-95f5-d46eb0037e3f"
      },
      "source": [
        "sns.countplot(train['Credit_History'])"
      ],
      "id": "labeled-wealth",
      "execution_count": 19,
      "outputs": [
        {
          "output_type": "execute_result",
          "data": {
            "text/plain": [
              "<matplotlib.axes._subplots.AxesSubplot at 0x7fa0441d3f90>"
            ]
          },
          "metadata": {
            "tags": []
          },
          "execution_count": 19
        },
        {
          "output_type": "display_data",
          "data": {
            "image/png": "[encoded data removed]",
            "text/plain": [
              "<Figure size 432x288 with 1 Axes>"
            ]
          },
          "metadata": {
            "tags": [],
            "needs_background": "light"
          }
        }
      ]
    },
    {
      "cell_type": "code",
      "metadata": {
        "execution": {
          "iopub.execute_input": "2021-04-22T06:55:46.820418Z",
          "iopub.status.busy": "2021-04-22T06:55:46.819212Z",
          "iopub.status.idle": "2021-04-22T06:55:46.866705Z",
          "shell.execute_reply": "2021-04-22T06:55:46.866113Z"
        },
        "papermill": {
          "duration": 0.120498,
          "end_time": "2021-04-22T06:55:46.866877",
          "exception": false,
          "start_time": "2021-04-22T06:55:46.746379",
          "status": "completed"
        },
        "tags": [],
        "colab": {
          "base_uri": "https://localhost:8080/",
          "height": 0
        },
        "id": "composite-dollar",
        "outputId": "7299da07-b1ee-4150-f6a8-38ed591931b8"
      },
      "source": [
        "pd.crosstab(train.Credit_History , train.Loan_Status, margins = True)"
      ],
      "id": "composite-dollar",
      "execution_count": 20,
      "outputs": [
        {
          "output_type": "execute_result",
          "data": {
            "text/html": [
              "<div>\n",
              "<style scoped>\n",
              "    .dataframe tbody tr th:only-of-type {\n",
              "        vertical-align: middle;\n",
              "    }\n",
              "\n",
              "    .dataframe tbody tr th {\n",
              "        vertical-align: top;\n",
              "    }\n",
              "\n",
              "    .dataframe thead th {\n",
              "        text-align: right;\n",
              "    }\n",
              "</style>\n",
              "<table border=\"1\" class=\"dataframe\">\n",
              "  <thead>\n",
              "    <tr style=\"text-align: right;\">\n",
              "      <th>Loan_Status</th>\n",
              "      <th>N</th>\n",
              "      <th>Y</th>\n",
              "      <th>All</th>\n",
              "    </tr>\n",
              "    <tr>\n",
              "      <th>Credit_History</th>\n",
              "      <th></th>\n",
              "      <th></th>\n",
              "      <th></th>\n",
              "    </tr>\n",
              "  </thead>\n",
              "  <tbody>\n",
              "    <tr>\n",
              "      <th>0.0</th>\n",
              "      <td>82</td>\n",
              "      <td>7</td>\n",
              "      <td>89</td>\n",
              "    </tr>\n",
              "    <tr>\n",
              "      <th>1.0</th>\n",
              "      <td>97</td>\n",
              "      <td>378</td>\n",
              "      <td>475</td>\n",
              "    </tr>\n",
              "    <tr>\n",
              "      <th>All</th>\n",
              "      <td>179</td>\n",
              "      <td>385</td>\n",
              "      <td>564</td>\n",
              "    </tr>\n",
              "  </tbody>\n",
              "</table>\n",
              "</div>"
            ],
            "text/plain": [
              "Loan_Status       N    Y  All\n",
              "Credit_History               \n",
              "0.0              82    7   89\n",
              "1.0              97  378  475\n",
              "All             179  385  564"
            ]
          },
          "metadata": {
            "tags": []
          },
          "execution_count": 20
        }
      ]
    },
    {
      "cell_type": "code",
      "metadata": {
        "execution": {
          "iopub.execute_input": "2021-04-22T06:55:47.013295Z",
          "iopub.status.busy": "2021-04-22T06:55:47.012601Z",
          "iopub.status.idle": "2021-04-22T06:55:47.016078Z",
          "shell.execute_reply": "2021-04-22T06:55:47.015458Z"
        },
        "papermill": {
          "duration": 0.077166,
          "end_time": "2021-04-22T06:55:47.016217",
          "exception": false,
          "start_time": "2021-04-22T06:55:46.939051",
          "status": "completed"
        },
        "tags": [],
        "id": "marine-regard"
      },
      "source": [
        "train.Credit_History = train.Credit_History.fillna(train.Credit_History.mode()[0])\n",
        "test.Credit_History  = test.Credit_History.fillna(test.Credit_History.mode()[0])"
      ],
      "id": "marine-regard",
      "execution_count": 21,
      "outputs": []
    },
    {
      "cell_type": "markdown",
      "metadata": {
        "papermill": {
          "duration": 0.067358,
          "end_time": "2021-04-22T06:55:47.151414",
          "exception": false,
          "start_time": "2021-04-22T06:55:47.084056",
          "status": "completed"
        },
        "tags": [],
        "id": "forbidden-carry"
      },
      "source": [
        "#### Self Employed"
      ],
      "id": "forbidden-carry"
    },
    {
      "cell_type": "code",
      "metadata": {
        "execution": {
          "iopub.execute_input": "2021-04-22T06:55:47.288746Z",
          "iopub.status.busy": "2021-04-22T06:55:47.288035Z",
          "iopub.status.idle": "2021-04-22T06:55:47.408619Z",
          "shell.execute_reply": "2021-04-22T06:55:47.409158Z"
        },
        "papermill": {
          "duration": 0.190391,
          "end_time": "2021-04-22T06:55:47.409365",
          "exception": false,
          "start_time": "2021-04-22T06:55:47.218974",
          "status": "completed"
        },
        "scrolled": true,
        "tags": [],
        "colab": {
          "base_uri": "https://localhost:8080/",
          "height": 0
        },
        "id": "miniature-yahoo",
        "outputId": "caf4dea0-679f-4548-e382-a861e15b3974"
      },
      "source": [
        "sns.countplot(train['Self_Employed'])"
      ],
      "id": "miniature-yahoo",
      "execution_count": 22,
      "outputs": [
        {
          "output_type": "execute_result",
          "data": {
            "text/plain": [
              "<matplotlib.axes._subplots.AxesSubplot at 0x7fa043209c10>"
            ]
          },
          "metadata": {
            "tags": []
          },
          "execution_count": 22
        },
        {
          "output_type": "display_data",
          "data": {
            "image/png": "[encoded data removed]",
            "text/plain": [
              "<Figure size 432x288 with 1 Axes>"
            ]
          },
          "metadata": {
            "tags": [],
            "needs_background": "light"
          }
        }
      ]
    },
    {
      "cell_type": "code",
      "metadata": {
        "execution": {
          "iopub.execute_input": "2021-04-22T06:55:47.547666Z",
          "iopub.status.busy": "2021-04-22T06:55:47.547007Z",
          "iopub.status.idle": "2021-04-22T06:55:47.597658Z",
          "shell.execute_reply": "2021-04-22T06:55:47.598177Z"
        },
        "papermill": {
          "duration": 0.121847,
          "end_time": "2021-04-22T06:55:47.598375",
          "exception": false,
          "start_time": "2021-04-22T06:55:47.476528",
          "status": "completed"
        },
        "tags": [],
        "colab": {
          "base_uri": "https://localhost:8080/",
          "height": 0
        },
        "id": "personalized-millennium",
        "outputId": "5e4a7228-6d54-4399-fba3-df25f5ba1c48"
      },
      "source": [
        "pd.crosstab(train.Self_Employed , train.Loan_Status,margins = True)"
      ],
      "id": "personalized-millennium",
      "execution_count": 23,
      "outputs": [
        {
          "output_type": "execute_result",
          "data": {
            "text/html": [
              "<div>\n",
              "<style scoped>\n",
              "    .dataframe tbody tr th:only-of-type {\n",
              "        vertical-align: middle;\n",
              "    }\n",
              "\n",
              "    .dataframe tbody tr th {\n",
              "        vertical-align: top;\n",
              "    }\n",
              "\n",
              "    .dataframe thead th {\n",
              "        text-align: right;\n",
              "    }\n",
              "</style>\n",
              "<table border=\"1\" class=\"dataframe\">\n",
              "  <thead>\n",
              "    <tr style=\"text-align: right;\">\n",
              "      <th>Loan_Status</th>\n",
              "      <th>N</th>\n",
              "      <th>Y</th>\n",
              "      <th>All</th>\n",
              "    </tr>\n",
              "    <tr>\n",
              "      <th>Self_Employed</th>\n",
              "      <th></th>\n",
              "      <th></th>\n",
              "      <th></th>\n",
              "    </tr>\n",
              "  </thead>\n",
              "  <tbody>\n",
              "    <tr>\n",
              "      <th>No</th>\n",
              "      <td>157</td>\n",
              "      <td>343</td>\n",
              "      <td>500</td>\n",
              "    </tr>\n",
              "    <tr>\n",
              "      <th>Yes</th>\n",
              "      <td>26</td>\n",
              "      <td>56</td>\n",
              "      <td>82</td>\n",
              "    </tr>\n",
              "    <tr>\n",
              "      <th>All</th>\n",
              "      <td>183</td>\n",
              "      <td>399</td>\n",
              "      <td>582</td>\n",
              "    </tr>\n",
              "  </tbody>\n",
              "</table>\n",
              "</div>"
            ],
            "text/plain": [
              "Loan_Status      N    Y  All\n",
              "Self_Employed               \n",
              "No             157  343  500\n",
              "Yes             26   56   82\n",
              "All            183  399  582"
            ]
          },
          "metadata": {
            "tags": []
          },
          "execution_count": 23
        }
      ]
    },
    {
      "cell_type": "code",
      "metadata": {
        "execution": {
          "iopub.execute_input": "2021-04-22T06:55:47.744663Z",
          "iopub.status.busy": "2021-04-22T06:55:47.743959Z",
          "iopub.status.idle": "2021-04-22T06:55:47.758276Z",
          "shell.execute_reply": "2021-04-22T06:55:47.757679Z"
        },
        "papermill": {
          "duration": 0.091491,
          "end_time": "2021-04-22T06:55:47.758437",
          "exception": false,
          "start_time": "2021-04-22T06:55:47.666946",
          "status": "completed"
        },
        "tags": [],
        "id": "polished-retail"
      },
      "source": [
        "train.Self_Employed = train.Self_Employed.fillna(train.Self_Employed.mode())\n",
        "test.Self_Employed = test.Self_Employed.fillna(test.Self_Employed.mode())\n",
        "\n",
        "self_Employed = pd.get_dummies(train['Self_Employed'] ,prefix = 'employed' ,drop_first = True )\n",
        "train.drop(['Self_Employed'], axis = 1 , inplace =True)\n",
        "train = pd.concat([train , self_Employed ] , axis = 1)\n",
        "\n",
        "self_Employed = pd.get_dummies(test['Self_Employed'] , prefix = 'employed' ,drop_first = True )\n",
        "test.drop(['Self_Employed'], axis = 1 , inplace =True)\n",
        "test = pd.concat([test , self_Employed ] , axis = 1)"
      ],
      "id": "polished-retail",
      "execution_count": 24,
      "outputs": []
    },
    {
      "cell_type": "markdown",
      "metadata": {
        "papermill": {
          "duration": 0.071345,
          "end_time": "2021-04-22T06:55:47.898906",
          "exception": false,
          "start_time": "2021-04-22T06:55:47.827561",
          "status": "completed"
        },
        "tags": [],
        "id": "faced-labor"
      },
      "source": [
        "#### Married"
      ],
      "id": "faced-labor"
    },
    {
      "cell_type": "code",
      "metadata": {
        "execution": {
          "iopub.execute_input": "2021-04-22T06:55:48.049571Z",
          "iopub.status.busy": "2021-04-22T06:55:48.048786Z",
          "iopub.status.idle": "2021-04-22T06:55:48.185292Z",
          "shell.execute_reply": "2021-04-22T06:55:48.185855Z"
        },
        "papermill": {
          "duration": 0.215762,
          "end_time": "2021-04-22T06:55:48.186031",
          "exception": false,
          "start_time": "2021-04-22T06:55:47.970269",
          "status": "completed"
        },
        "tags": [],
        "colab": {
          "base_uri": "https://localhost:8080/",
          "height": 0
        },
        "id": "executed-twelve",
        "outputId": "75cb904c-5d60-4053-da47-f700e3b684cd"
      },
      "source": [
        "sns.countplot(train.Married)"
      ],
      "id": "executed-twelve",
      "execution_count": 25,
      "outputs": [
        {
          "output_type": "execute_result",
          "data": {
            "text/plain": [
              "<matplotlib.axes._subplots.AxesSubplot at 0x7fa04316b290>"
            ]
          },
          "metadata": {
            "tags": []
          },
          "execution_count": 25
        },
        {
          "output_type": "display_data",
          "data": {
            "image/png": "[encoded data removed]",
            "text/plain": [
              "<Figure size 432x288 with 1 Axes>"
            ]
          },
          "metadata": {
            "tags": [],
            "needs_background": "light"
          }
        }
      ]
    },
    {
      "cell_type": "code",
      "metadata": {
        "execution": {
          "iopub.execute_input": "2021-04-22T06:55:48.329307Z",
          "iopub.status.busy": "2021-04-22T06:55:48.328605Z",
          "iopub.status.idle": "2021-04-22T06:55:48.380814Z",
          "shell.execute_reply": "2021-04-22T06:55:48.380139Z"
        },
        "papermill": {
          "duration": 0.125241,
          "end_time": "2021-04-22T06:55:48.380974",
          "exception": false,
          "start_time": "2021-04-22T06:55:48.255733",
          "status": "completed"
        },
        "tags": [],
        "colab": {
          "base_uri": "https://localhost:8080/",
          "height": 0
        },
        "id": "dressed-carpet",
        "outputId": "b7f6bc04-9149-41d8-fe7a-8ca3dd4c2bfc"
      },
      "source": [
        "pd.crosstab(train.Married , train.Loan_Status,margins = True)"
      ],
      "id": "dressed-carpet",
      "execution_count": 26,
      "outputs": [
        {
          "output_type": "execute_result",
          "data": {
            "text/html": [
              "<div>\n",
              "<style scoped>\n",
              "    .dataframe tbody tr th:only-of-type {\n",
              "        vertical-align: middle;\n",
              "    }\n",
              "\n",
              "    .dataframe tbody tr th {\n",
              "        vertical-align: top;\n",
              "    }\n",
              "\n",
              "    .dataframe thead th {\n",
              "        text-align: right;\n",
              "    }\n",
              "</style>\n",
              "<table border=\"1\" class=\"dataframe\">\n",
              "  <thead>\n",
              "    <tr style=\"text-align: right;\">\n",
              "      <th>Loan_Status</th>\n",
              "      <th>N</th>\n",
              "      <th>Y</th>\n",
              "      <th>All</th>\n",
              "    </tr>\n",
              "    <tr>\n",
              "      <th>Married</th>\n",
              "      <th></th>\n",
              "      <th></th>\n",
              "      <th></th>\n",
              "    </tr>\n",
              "  </thead>\n",
              "  <tbody>\n",
              "    <tr>\n",
              "      <th>No</th>\n",
              "      <td>79</td>\n",
              "      <td>134</td>\n",
              "      <td>213</td>\n",
              "    </tr>\n",
              "    <tr>\n",
              "      <th>Yes</th>\n",
              "      <td>113</td>\n",
              "      <td>285</td>\n",
              "      <td>398</td>\n",
              "    </tr>\n",
              "    <tr>\n",
              "      <th>All</th>\n",
              "      <td>192</td>\n",
              "      <td>419</td>\n",
              "      <td>611</td>\n",
              "    </tr>\n",
              "  </tbody>\n",
              "</table>\n",
              "</div>"
            ],
            "text/plain": [
              "Loan_Status    N    Y  All\n",
              "Married                   \n",
              "No            79  134  213\n",
              "Yes          113  285  398\n",
              "All          192  419  611"
            ]
          },
          "metadata": {
            "tags": []
          },
          "execution_count": 26
        }
      ]
    },
    {
      "cell_type": "code",
      "metadata": {
        "execution": {
          "iopub.execute_input": "2021-04-22T06:55:48.544850Z",
          "iopub.status.busy": "2021-04-22T06:55:48.544125Z",
          "iopub.status.idle": "2021-04-22T06:55:48.546581Z",
          "shell.execute_reply": "2021-04-22T06:55:48.547105Z"
        },
        "papermill": {
          "duration": 0.094077,
          "end_time": "2021-04-22T06:55:48.547287",
          "exception": false,
          "start_time": "2021-04-22T06:55:48.453210",
          "status": "completed"
        },
        "tags": [],
        "id": "paperback-annual"
      },
      "source": [
        "train.Married = train.Married.fillna(train.Married.mode())\n",
        "test.Married = test.Married.fillna(test.Married.mode())\n",
        "\n",
        "married = pd.get_dummies(train['Married'] , prefix = 'married',drop_first = True )\n",
        "train.drop(['Married'], axis = 1 , inplace =True)\n",
        "train = pd.concat([train , married ] , axis = 1)\n",
        "\n",
        "married = pd.get_dummies(test['Married'] , prefix = 'married', drop_first = True )\n",
        "test.drop(['Married'], axis = 1 , inplace =True)\n",
        "test = pd.concat([test , married ] , axis = 1)"
      ],
      "id": "paperback-annual",
      "execution_count": 27,
      "outputs": []
    },
    {
      "cell_type": "markdown",
      "metadata": {
        "papermill": {
          "duration": 0.06968,
          "end_time": "2021-04-22T06:55:48.687692",
          "exception": false,
          "start_time": "2021-04-22T06:55:48.618012",
          "status": "completed"
        },
        "tags": [],
        "id": "united-surgeon"
      },
      "source": [
        "#### Loan Amount Term and Loan Amount"
      ],
      "id": "united-surgeon"
    },
    {
      "cell_type": "code",
      "metadata": {
        "execution": {
          "iopub.execute_input": "2021-04-22T06:55:48.833369Z",
          "iopub.status.busy": "2021-04-22T06:55:48.832668Z",
          "iopub.status.idle": "2021-04-22T06:55:48.845135Z",
          "shell.execute_reply": "2021-04-22T06:55:48.844589Z"
        },
        "papermill": {
          "duration": 0.08642,
          "end_time": "2021-04-22T06:55:48.845285",
          "exception": false,
          "start_time": "2021-04-22T06:55:48.758865",
          "status": "completed"
        },
        "tags": [],
        "id": "unlike-sussex"
      },
      "source": [
        "train.drop(['Loan_Amount_Term'], axis = 1 , inplace =True)\n",
        "test.drop(['Loan_Amount_Term'], axis = 1 , inplace =True)\n",
        "\n",
        "train.LoanAmount = train.LoanAmount.fillna(train.LoanAmount.mean()).astype(int)\n",
        "test.LoanAmount = test.LoanAmount.fillna(test.LoanAmount.mean()).astype(int)"
      ],
      "id": "unlike-sussex",
      "execution_count": 28,
      "outputs": []
    },
    {
      "cell_type": "code",
      "metadata": {
        "execution": {
          "iopub.execute_input": "2021-04-22T06:55:49.020612Z",
          "iopub.status.busy": "2021-04-22T06:55:49.018978Z",
          "iopub.status.idle": "2021-04-22T06:55:49.293573Z",
          "shell.execute_reply": "2021-04-22T06:55:49.294106Z"
        },
        "papermill": {
          "duration": 0.376282,
          "end_time": "2021-04-22T06:55:49.294314",
          "exception": false,
          "start_time": "2021-04-22T06:55:48.918032",
          "status": "completed"
        },
        "tags": [],
        "colab": {
          "base_uri": "https://localhost:8080/",
          "height": 0
        },
        "id": "gentle-delhi",
        "outputId": "fbd1e601-459d-4cbb-8af2-b27837fb7958"
      },
      "source": [
        "sns.distplot(train['LoanAmount'])"
      ],
      "id": "gentle-delhi",
      "execution_count": 29,
      "outputs": [
        {
          "output_type": "execute_result",
          "data": {
            "text/plain": [
              "<matplotlib.axes._subplots.AxesSubplot at 0x7fa0430ec950>"
            ]
          },
          "metadata": {
            "tags": []
          },
          "execution_count": 29
        },
        {
          "output_type": "display_data",
          "data": {
            "image/png": "[encoded data removed]",
            "text/plain": [
              "<Figure size 432x288 with 1 Axes>"
            ]
          },
          "metadata": {
            "tags": [],
            "needs_background": "light"
          }
        }
      ]
    },
    {
      "cell_type": "markdown",
      "metadata": {
        "papermill": {
          "duration": 0.07245,
          "end_time": "2021-04-22T06:55:49.444449",
          "exception": false,
          "start_time": "2021-04-22T06:55:49.371999",
          "status": "completed"
        },
        "tags": [],
        "id": "hispanic-basket"
      },
      "source": [
        "We observe no outliers in the continuous variable Loan Amount"
      ],
      "id": "hispanic-basket"
    },
    {
      "cell_type": "markdown",
      "metadata": {
        "papermill": {
          "duration": 0.071185,
          "end_time": "2021-04-22T06:55:49.594210",
          "exception": false,
          "start_time": "2021-04-22T06:55:49.523025",
          "status": "completed"
        },
        "tags": [],
        "id": "rocky-hayes"
      },
      "source": [
        "#### Education"
      ],
      "id": "rocky-hayes"
    },
    {
      "cell_type": "code",
      "metadata": {
        "execution": {
          "iopub.execute_input": "2021-04-22T06:55:49.773938Z",
          "iopub.status.busy": "2021-04-22T06:55:49.744496Z",
          "iopub.status.idle": "2021-04-22T06:55:49.871382Z",
          "shell.execute_reply": "2021-04-22T06:55:49.870676Z"
        },
        "papermill": {
          "duration": 0.204866,
          "end_time": "2021-04-22T06:55:49.871530",
          "exception": false,
          "start_time": "2021-04-22T06:55:49.666664",
          "status": "completed"
        },
        "tags": [],
        "colab": {
          "base_uri": "https://localhost:8080/",
          "height": 0
        },
        "id": "expanded-brief",
        "outputId": "110c7826-7005-48b2-849b-f71f559ba875"
      },
      "source": [
        "sns.countplot(train.Education)"
      ],
      "id": "expanded-brief",
      "execution_count": 30,
      "outputs": [
        {
          "output_type": "execute_result",
          "data": {
            "text/plain": [
              "<matplotlib.axes._subplots.AxesSubplot at 0x7fa040fef1d0>"
            ]
          },
          "metadata": {
            "tags": []
          },
          "execution_count": 30
        },
        {
          "output_type": "display_data",
          "data": {
            "image/png": "[encoded data removed]",
            "text/plain": [
              "<Figure size 432x288 with 1 Axes>"
            ]
          },
          "metadata": {
            "tags": [],
            "needs_background": "light"
          }
        }
      ]
    },
    {
      "cell_type": "code",
      "metadata": {
        "execution": {
          "iopub.execute_input": "2021-04-22T06:55:50.029920Z",
          "iopub.status.busy": "2021-04-22T06:55:50.027934Z",
          "iopub.status.idle": "2021-04-22T06:55:50.033722Z",
          "shell.execute_reply": "2021-04-22T06:55:50.034185Z"
        },
        "papermill": {
          "duration": 0.087574,
          "end_time": "2021-04-22T06:55:50.034387",
          "exception": false,
          "start_time": "2021-04-22T06:55:49.946813",
          "status": "completed"
        },
        "scrolled": true,
        "tags": [],
        "id": "mysterious-dylan"
      },
      "source": [
        "train['Education'] = train['Education'].map( {'Graduate': 0, 'Not Graduate': 1} ).astype(int)\n",
        "test['Education'] = test['Education'].map( {'Graduate': 0, 'Not Graduate': 1} ).astype(int)"
      ],
      "id": "mysterious-dylan",
      "execution_count": 31,
      "outputs": []
    },
    {
      "cell_type": "markdown",
      "metadata": {
        "papermill": {
          "duration": 0.073694,
          "end_time": "2021-04-22T06:55:50.180750",
          "exception": false,
          "start_time": "2021-04-22T06:55:50.107056",
          "status": "completed"
        },
        "tags": [],
        "id": "african-american"
      },
      "source": [
        "#### Property Area"
      ],
      "id": "african-american"
    },
    {
      "cell_type": "code",
      "metadata": {
        "execution": {
          "iopub.execute_input": "2021-04-22T06:55:50.334372Z",
          "iopub.status.busy": "2021-04-22T06:55:50.333058Z",
          "iopub.status.idle": "2021-04-22T06:55:50.460317Z",
          "shell.execute_reply": "2021-04-22T06:55:50.459790Z"
        },
        "papermill": {
          "duration": 0.206594,
          "end_time": "2021-04-22T06:55:50.460483",
          "exception": false,
          "start_time": "2021-04-22T06:55:50.253889",
          "status": "completed"
        },
        "tags": [],
        "colab": {
          "base_uri": "https://localhost:8080/",
          "height": 0
        },
        "id": "military-coordinator",
        "outputId": "6a5cac3f-cf4b-42f7-cccb-9a31a7d2f04b"
      },
      "source": [
        "sns.countplot(train.Property_Area)"
      ],
      "id": "military-coordinator",
      "execution_count": 32,
      "outputs": [
        {
          "output_type": "execute_result",
          "data": {
            "text/plain": [
              "<matplotlib.axes._subplots.AxesSubplot at 0x7fa040fbb710>"
            ]
          },
          "metadata": {
            "tags": []
          },
          "execution_count": 32
        },
        {
          "output_type": "display_data",
          "data": {
            "image/png": "[encoded data removed]",
            "text/plain": [
              "<Figure size 432x288 with 1 Axes>"
            ]
          },
          "metadata": {
            "tags": [],
            "needs_background": "light"
          }
        }
      ]
    },
    {
      "cell_type": "code",
      "metadata": {
        "execution": {
          "iopub.execute_input": "2021-04-22T06:55:50.624902Z",
          "iopub.status.busy": "2021-04-22T06:55:50.624155Z",
          "iopub.status.idle": "2021-04-22T06:55:50.627623Z",
          "shell.execute_reply": "2021-04-22T06:55:50.627065Z"
        },
        "papermill": {
          "duration": 0.093231,
          "end_time": "2021-04-22T06:55:50.627782",
          "exception": false,
          "start_time": "2021-04-22T06:55:50.534551",
          "status": "completed"
        },
        "tags": [],
        "id": "incorporate-pipeline"
      },
      "source": [
        "train['Property_Area'] = train['Property_Area'].map( {'Urban': 0, 'Semiurban': 1 ,'Rural': 2  } ).astype(int)\n",
        "\n",
        "test.Property_Area = test.Property_Area.fillna(test.Property_Area.mode())\n",
        "test['Property_Area'] = test['Property_Area'].map( {'Urban': 0, 'Semiurban': 1 ,'Rural': 2  } ).astype(int)\n"
      ],
      "id": "incorporate-pipeline",
      "execution_count": 33,
      "outputs": []
    },
    {
      "cell_type": "markdown",
      "metadata": {
        "papermill": {
          "duration": 0.073293,
          "end_time": "2021-04-22T06:55:50.775233",
          "exception": false,
          "start_time": "2021-04-22T06:55:50.701940",
          "status": "completed"
        },
        "tags": [],
        "id": "upset-expert"
      },
      "source": [
        "#### Co-Applicant income and Applicant income"
      ],
      "id": "upset-expert"
    },
    {
      "cell_type": "code",
      "metadata": {
        "execution": {
          "iopub.execute_input": "2021-04-22T06:55:50.952985Z",
          "iopub.status.busy": "2021-04-22T06:55:50.947489Z",
          "iopub.status.idle": "2021-04-22T06:55:51.215757Z",
          "shell.execute_reply": "2021-04-22T06:55:51.216278Z"
        },
        "papermill": {
          "duration": 0.364469,
          "end_time": "2021-04-22T06:55:51.216498",
          "exception": false,
          "start_time": "2021-04-22T06:55:50.852029",
          "status": "completed"
        },
        "tags": [],
        "colab": {
          "base_uri": "https://localhost:8080/",
          "height": 0
        },
        "id": "greek-indonesia",
        "outputId": "f5ea58dd-41ce-4a24-d017-a455f7e0887e"
      },
      "source": [
        "sns.distplot(train['ApplicantIncome'])"
      ],
      "id": "greek-indonesia",
      "execution_count": 34,
      "outputs": [
        {
          "output_type": "execute_result",
          "data": {
            "text/plain": [
              "<matplotlib.axes._subplots.AxesSubplot at 0x7fa040f14510>"
            ]
          },
          "metadata": {
            "tags": []
          },
          "execution_count": 34
        },
        {
          "output_type": "display_data",
          "data": {
            "image/png": "[encoded data removed]",
            "text/plain": [
              "<Figure size 432x288 with 1 Axes>"
            ]
          },
          "metadata": {
            "tags": [],
            "needs_background": "light"
          }
        }
      ]
    },
    {
      "cell_type": "code",
      "metadata": {
        "execution": {
          "iopub.execute_input": "2021-04-22T06:55:51.398269Z",
          "iopub.status.busy": "2021-04-22T06:55:51.396246Z",
          "iopub.status.idle": "2021-04-22T06:55:51.660030Z",
          "shell.execute_reply": "2021-04-22T06:55:51.659472Z"
        },
        "papermill": {
          "duration": 0.368207,
          "end_time": "2021-04-22T06:55:51.660186",
          "exception": false,
          "start_time": "2021-04-22T06:55:51.291979",
          "status": "completed"
        },
        "tags": [],
        "colab": {
          "base_uri": "https://localhost:8080/",
          "height": 0
        },
        "id": "intimate-penetration",
        "outputId": "7443d90c-498f-42b6-c80a-c7ad0646ba5a"
      },
      "source": [
        "sns.distplot(train['CoapplicantIncome'])"
      ],
      "id": "intimate-penetration",
      "execution_count": 35,
      "outputs": [
        {
          "output_type": "execute_result",
          "data": {
            "text/plain": [
              "<matplotlib.axes._subplots.AxesSubplot at 0x7fa040f14590>"
            ]
          },
          "metadata": {
            "tags": []
          },
          "execution_count": 35
        },
        {
          "output_type": "display_data",
          "data": {
            "image/png": "[encoded data removed]",
            "text/plain": [
              "<Figure size 432x288 with 1 Axes>"
            ]
          },
          "metadata": {
            "tags": [],
            "needs_background": "light"
          }
        }
      ]
    },
    {
      "cell_type": "markdown",
      "metadata": {
        "papermill": {
          "duration": 0.077831,
          "end_time": "2021-04-22T06:55:51.815825",
          "exception": false,
          "start_time": "2021-04-22T06:55:51.737994",
          "status": "completed"
        },
        "tags": [],
        "id": "complete-wagner"
      },
      "source": [
        "### Target Variable : Loan Status"
      ],
      "id": "complete-wagner"
    },
    {
      "cell_type": "code",
      "metadata": {
        "execution": {
          "iopub.execute_input": "2021-04-22T06:55:51.978975Z",
          "iopub.status.busy": "2021-04-22T06:55:51.978076Z",
          "iopub.status.idle": "2021-04-22T06:55:51.981853Z",
          "shell.execute_reply": "2021-04-22T06:55:51.981202Z"
        },
        "papermill": {
          "duration": 0.087368,
          "end_time": "2021-04-22T06:55:51.982005",
          "exception": false,
          "start_time": "2021-04-22T06:55:51.894637",
          "status": "completed"
        },
        "tags": [],
        "id": "cellular-kinase"
      },
      "source": [
        "train['Loan_Status'] = train['Loan_Status'].map( {'N': 0, 'Y': 1 } ).astype(int)"
      ],
      "id": "cellular-kinase",
      "execution_count": 36,
      "outputs": []
    },
    {
      "cell_type": "markdown",
      "metadata": {
        "papermill": {
          "duration": 0.077228,
          "end_time": "2021-04-22T06:55:52.138033",
          "exception": false,
          "start_time": "2021-04-22T06:55:52.060805",
          "status": "completed"
        },
        "tags": [],
        "id": "ahead-traffic"
      },
      "source": [
        "###### Dropping the ID column"
      ],
      "id": "ahead-traffic"
    },
    {
      "cell_type": "code",
      "metadata": {
        "execution": {
          "iopub.execute_input": "2021-04-22T06:55:52.330464Z",
          "iopub.status.busy": "2021-04-22T06:55:52.329361Z",
          "iopub.status.idle": "2021-04-22T06:55:52.333357Z",
          "shell.execute_reply": "2021-04-22T06:55:52.333875Z"
        },
        "papermill": {
          "duration": 0.099193,
          "end_time": "2021-04-22T06:55:52.334068",
          "exception": false,
          "start_time": "2021-04-22T06:55:52.234875",
          "status": "completed"
        },
        "tags": [],
        "id": "controlling-enough"
      },
      "source": [
        "train.drop(['Loan_ID'], axis = 1 , inplace =True)"
      ],
      "id": "controlling-enough",
      "execution_count": 37,
      "outputs": []
    },
    {
      "cell_type": "markdown",
      "metadata": {
        "papermill": {
          "duration": 0.078105,
          "end_time": "2021-04-22T06:55:52.490266",
          "exception": false,
          "start_time": "2021-04-22T06:55:52.412161",
          "status": "completed"
        },
        "tags": [],
        "id": "mighty-stomach"
      },
      "source": [
        "## View the datasets"
      ],
      "id": "mighty-stomach"
    },
    {
      "cell_type": "code",
      "metadata": {
        "execution": {
          "iopub.execute_input": "2021-04-22T06:55:52.647479Z",
          "iopub.status.busy": "2021-04-22T06:55:52.646725Z",
          "iopub.status.idle": "2021-04-22T06:55:52.663755Z",
          "shell.execute_reply": "2021-04-22T06:55:52.663068Z"
        },
        "papermill": {
          "duration": 0.09691,
          "end_time": "2021-04-22T06:55:52.663898",
          "exception": false,
          "start_time": "2021-04-22T06:55:52.566988",
          "status": "completed"
        },
        "scrolled": true,
        "tags": [],
        "colab": {
          "base_uri": "https://localhost:8080/",
          "height": 356
        },
        "id": "answering-semester",
        "outputId": "6b673f8d-40f9-4391-d535-80f50ca4f33b"
      },
      "source": [
        "train.head(10)"
      ],
      "id": "answering-semester",
      "execution_count": 67,
      "outputs": [
        {
          "output_type": "execute_result",
          "data": {
            "text/html": [
              "<div>\n",
              "<style scoped>\n",
              "    .dataframe tbody tr th:only-of-type {\n",
              "        vertical-align: middle;\n",
              "    }\n",
              "\n",
              "    .dataframe tbody tr th {\n",
              "        vertical-align: top;\n",
              "    }\n",
              "\n",
              "    .dataframe thead th {\n",
              "        text-align: right;\n",
              "    }\n",
              "</style>\n",
              "<table border=\"1\" class=\"dataframe\">\n",
              "  <thead>\n",
              "    <tr style=\"text-align: right;\">\n",
              "      <th></th>\n",
              "      <th>Dependents</th>\n",
              "      <th>Education</th>\n",
              "      <th>ApplicantIncome</th>\n",
              "      <th>CoapplicantIncome</th>\n",
              "      <th>LoanAmount</th>\n",
              "      <th>Credit_History</th>\n",
              "      <th>Property_Area</th>\n",
              "      <th>Loan_Status</th>\n",
              "      <th>Male</th>\n",
              "      <th>employed_Yes</th>\n",
              "      <th>married_Yes</th>\n",
              "    </tr>\n",
              "  </thead>\n",
              "  <tbody>\n",
              "    <tr>\n",
              "      <th>0</th>\n",
              "      <td>0</td>\n",
              "      <td>0</td>\n",
              "      <td>5849</td>\n",
              "      <td>0.0</td>\n",
              "      <td>146</td>\n",
              "      <td>1.0</td>\n",
              "      <td>0</td>\n",
              "      <td>1</td>\n",
              "      <td>1</td>\n",
              "      <td>0</td>\n",
              "      <td>0</td>\n",
              "    </tr>\n",
              "    <tr>\n",
              "      <th>1</th>\n",
              "      <td>1</td>\n",
              "      <td>0</td>\n",
              "      <td>4583</td>\n",
              "      <td>1508.0</td>\n",
              "      <td>128</td>\n",
              "      <td>1.0</td>\n",
              "      <td>2</td>\n",
              "      <td>0</td>\n",
              "      <td>1</td>\n",
              "      <td>0</td>\n",
              "      <td>1</td>\n",
              "    </tr>\n",
              "    <tr>\n",
              "      <th>2</th>\n",
              "      <td>0</td>\n",
              "      <td>0</td>\n",
              "      <td>3000</td>\n",
              "      <td>0.0</td>\n",
              "      <td>66</td>\n",
              "      <td>1.0</td>\n",
              "      <td>0</td>\n",
              "      <td>1</td>\n",
              "      <td>1</td>\n",
              "      <td>1</td>\n",
              "      <td>1</td>\n",
              "    </tr>\n",
              "    <tr>\n",
              "      <th>3</th>\n",
              "      <td>0</td>\n",
              "      <td>1</td>\n",
              "      <td>2583</td>\n",
              "      <td>2358.0</td>\n",
              "      <td>120</td>\n",
              "      <td>1.0</td>\n",
              "      <td>0</td>\n",
              "      <td>1</td>\n",
              "      <td>1</td>\n",
              "      <td>0</td>\n",
              "      <td>1</td>\n",
              "    </tr>\n",
              "    <tr>\n",
              "      <th>4</th>\n",
              "      <td>0</td>\n",
              "      <td>0</td>\n",
              "      <td>6000</td>\n",
              "      <td>0.0</td>\n",
              "      <td>141</td>\n",
              "      <td>1.0</td>\n",
              "      <td>0</td>\n",
              "      <td>1</td>\n",
              "      <td>1</td>\n",
              "      <td>0</td>\n",
              "      <td>0</td>\n",
              "    </tr>\n",
              "    <tr>\n",
              "      <th>5</th>\n",
              "      <td>2</td>\n",
              "      <td>0</td>\n",
              "      <td>5417</td>\n",
              "      <td>4196.0</td>\n",
              "      <td>267</td>\n",
              "      <td>1.0</td>\n",
              "      <td>0</td>\n",
              "      <td>1</td>\n",
              "      <td>1</td>\n",
              "      <td>1</td>\n",
              "      <td>1</td>\n",
              "    </tr>\n",
              "    <tr>\n",
              "      <th>6</th>\n",
              "      <td>0</td>\n",
              "      <td>1</td>\n",
              "      <td>2333</td>\n",
              "      <td>1516.0</td>\n",
              "      <td>95</td>\n",
              "      <td>1.0</td>\n",
              "      <td>0</td>\n",
              "      <td>1</td>\n",
              "      <td>1</td>\n",
              "      <td>0</td>\n",
              "      <td>1</td>\n",
              "    </tr>\n",
              "    <tr>\n",
              "      <th>7</th>\n",
              "      <td>3</td>\n",
              "      <td>0</td>\n",
              "      <td>3036</td>\n",
              "      <td>2504.0</td>\n",
              "      <td>158</td>\n",
              "      <td>0.0</td>\n",
              "      <td>1</td>\n",
              "      <td>0</td>\n",
              "      <td>1</td>\n",
              "      <td>0</td>\n",
              "      <td>1</td>\n",
              "    </tr>\n",
              "    <tr>\n",
              "      <th>8</th>\n",
              "      <td>2</td>\n",
              "      <td>0</td>\n",
              "      <td>4006</td>\n",
              "      <td>1526.0</td>\n",
              "      <td>168</td>\n",
              "      <td>1.0</td>\n",
              "      <td>0</td>\n",
              "      <td>1</td>\n",
              "      <td>1</td>\n",
              "      <td>0</td>\n",
              "      <td>1</td>\n",
              "    </tr>\n",
              "    <tr>\n",
              "      <th>9</th>\n",
              "      <td>1</td>\n",
              "      <td>0</td>\n",
              "      <td>12841</td>\n",
              "      <td>10968.0</td>\n",
              "      <td>349</td>\n",
              "      <td>1.0</td>\n",
              "      <td>1</td>\n",
              "      <td>0</td>\n",
              "      <td>1</td>\n",
              "      <td>0</td>\n",
              "      <td>1</td>\n",
              "    </tr>\n",
              "  </tbody>\n",
              "</table>\n",
              "</div>"
            ],
            "text/plain": [
              "   Dependents  Education  ApplicantIncome  ...  Male  employed_Yes  married_Yes\n",
              "0           0          0             5849  ...     1             0            0\n",
              "1           1          0             4583  ...     1             0            1\n",
              "2           0          0             3000  ...     1             1            1\n",
              "3           0          1             2583  ...     1             0            1\n",
              "4           0          0             6000  ...     1             0            0\n",
              "5           2          0             5417  ...     1             1            1\n",
              "6           0          1             2333  ...     1             0            1\n",
              "7           3          0             3036  ...     1             0            1\n",
              "8           2          0             4006  ...     1             0            1\n",
              "9           1          0            12841  ...     1             0            1\n",
              "\n",
              "[10 rows x 11 columns]"
            ]
          },
          "metadata": {
            "tags": []
          },
          "execution_count": 67
        }
      ]
    },
    {
      "cell_type": "code",
      "metadata": {
        "execution": {
          "iopub.execute_input": "2021-04-22T06:55:52.825057Z",
          "iopub.status.busy": "2021-04-22T06:55:52.824397Z",
          "iopub.status.idle": "2021-04-22T06:55:52.839602Z",
          "shell.execute_reply": "2021-04-22T06:55:52.840181Z"
        },
        "papermill": {
          "duration": 0.097555,
          "end_time": "2021-04-22T06:55:52.840397",
          "exception": false,
          "start_time": "2021-04-22T06:55:52.742842",
          "status": "completed"
        },
        "tags": [],
        "colab": {
          "base_uri": "https://localhost:8080/",
          "height": 356
        },
        "id": "stuffed-france",
        "outputId": "50252212-8c5c-4673-8313-93444c815b37"
      },
      "source": [
        "test.head(10)"
      ],
      "id": "stuffed-france",
      "execution_count": 68,
      "outputs": [
        {
          "output_type": "execute_result",
          "data": {
            "text/html": [
              "<div>\n",
              "<style scoped>\n",
              "    .dataframe tbody tr th:only-of-type {\n",
              "        vertical-align: middle;\n",
              "    }\n",
              "\n",
              "    .dataframe tbody tr th {\n",
              "        vertical-align: top;\n",
              "    }\n",
              "\n",
              "    .dataframe thead th {\n",
              "        text-align: right;\n",
              "    }\n",
              "</style>\n",
              "<table border=\"1\" class=\"dataframe\">\n",
              "  <thead>\n",
              "    <tr style=\"text-align: right;\">\n",
              "      <th></th>\n",
              "      <th>Loan_ID</th>\n",
              "      <th>Dependents</th>\n",
              "      <th>Education</th>\n",
              "      <th>ApplicantIncome</th>\n",
              "      <th>CoapplicantIncome</th>\n",
              "      <th>LoanAmount</th>\n",
              "      <th>Credit_History</th>\n",
              "      <th>Property_Area</th>\n",
              "      <th>Male</th>\n",
              "      <th>employed_Yes</th>\n",
              "      <th>married_Yes</th>\n",
              "    </tr>\n",
              "  </thead>\n",
              "  <tbody>\n",
              "    <tr>\n",
              "      <th>0</th>\n",
              "      <td>LP001015</td>\n",
              "      <td>0</td>\n",
              "      <td>0</td>\n",
              "      <td>5720</td>\n",
              "      <td>0</td>\n",
              "      <td>110</td>\n",
              "      <td>1.0</td>\n",
              "      <td>0</td>\n",
              "      <td>1</td>\n",
              "      <td>0</td>\n",
              "      <td>1</td>\n",
              "    </tr>\n",
              "    <tr>\n",
              "      <th>1</th>\n",
              "      <td>LP001022</td>\n",
              "      <td>1</td>\n",
              "      <td>0</td>\n",
              "      <td>3076</td>\n",
              "      <td>1500</td>\n",
              "      <td>126</td>\n",
              "      <td>1.0</td>\n",
              "      <td>0</td>\n",
              "      <td>1</td>\n",
              "      <td>0</td>\n",
              "      <td>1</td>\n",
              "    </tr>\n",
              "    <tr>\n",
              "      <th>2</th>\n",
              "      <td>LP001031</td>\n",
              "      <td>2</td>\n",
              "      <td>0</td>\n",
              "      <td>5000</td>\n",
              "      <td>1800</td>\n",
              "      <td>208</td>\n",
              "      <td>1.0</td>\n",
              "      <td>0</td>\n",
              "      <td>1</td>\n",
              "      <td>0</td>\n",
              "      <td>1</td>\n",
              "    </tr>\n",
              "    <tr>\n",
              "      <th>3</th>\n",
              "      <td>LP001035</td>\n",
              "      <td>2</td>\n",
              "      <td>0</td>\n",
              "      <td>2340</td>\n",
              "      <td>2546</td>\n",
              "      <td>100</td>\n",
              "      <td>1.0</td>\n",
              "      <td>0</td>\n",
              "      <td>1</td>\n",
              "      <td>0</td>\n",
              "      <td>1</td>\n",
              "    </tr>\n",
              "    <tr>\n",
              "      <th>4</th>\n",
              "      <td>LP001051</td>\n",
              "      <td>0</td>\n",
              "      <td>1</td>\n",
              "      <td>3276</td>\n",
              "      <td>0</td>\n",
              "      <td>78</td>\n",
              "      <td>1.0</td>\n",
              "      <td>0</td>\n",
              "      <td>1</td>\n",
              "      <td>0</td>\n",
              "      <td>0</td>\n",
              "    </tr>\n",
              "    <tr>\n",
              "      <th>5</th>\n",
              "      <td>LP001054</td>\n",
              "      <td>0</td>\n",
              "      <td>1</td>\n",
              "      <td>2165</td>\n",
              "      <td>3422</td>\n",
              "      <td>152</td>\n",
              "      <td>1.0</td>\n",
              "      <td>0</td>\n",
              "      <td>1</td>\n",
              "      <td>1</td>\n",
              "      <td>1</td>\n",
              "    </tr>\n",
              "    <tr>\n",
              "      <th>6</th>\n",
              "      <td>LP001055</td>\n",
              "      <td>1</td>\n",
              "      <td>1</td>\n",
              "      <td>2226</td>\n",
              "      <td>0</td>\n",
              "      <td>59</td>\n",
              "      <td>1.0</td>\n",
              "      <td>1</td>\n",
              "      <td>0</td>\n",
              "      <td>0</td>\n",
              "      <td>0</td>\n",
              "    </tr>\n",
              "    <tr>\n",
              "      <th>7</th>\n",
              "      <td>LP001056</td>\n",
              "      <td>2</td>\n",
              "      <td>1</td>\n",
              "      <td>3881</td>\n",
              "      <td>0</td>\n",
              "      <td>147</td>\n",
              "      <td>0.0</td>\n",
              "      <td>2</td>\n",
              "      <td>1</td>\n",
              "      <td>0</td>\n",
              "      <td>1</td>\n",
              "    </tr>\n",
              "    <tr>\n",
              "      <th>8</th>\n",
              "      <td>LP001059</td>\n",
              "      <td>2</td>\n",
              "      <td>0</td>\n",
              "      <td>13633</td>\n",
              "      <td>0</td>\n",
              "      <td>280</td>\n",
              "      <td>1.0</td>\n",
              "      <td>0</td>\n",
              "      <td>1</td>\n",
              "      <td>0</td>\n",
              "      <td>1</td>\n",
              "    </tr>\n",
              "    <tr>\n",
              "      <th>9</th>\n",
              "      <td>LP001067</td>\n",
              "      <td>0</td>\n",
              "      <td>1</td>\n",
              "      <td>2400</td>\n",
              "      <td>2400</td>\n",
              "      <td>123</td>\n",
              "      <td>1.0</td>\n",
              "      <td>1</td>\n",
              "      <td>1</td>\n",
              "      <td>0</td>\n",
              "      <td>0</td>\n",
              "    </tr>\n",
              "  </tbody>\n",
              "</table>\n",
              "</div>"
            ],
            "text/plain": [
              "    Loan_ID  Dependents  Education  ...  Male  employed_Yes  married_Yes\n",
              "0  LP001015           0          0  ...     1             0            1\n",
              "1  LP001022           1          0  ...     1             0            1\n",
              "2  LP001031           2          0  ...     1             0            1\n",
              "3  LP001035           2          0  ...     1             0            1\n",
              "4  LP001051           0          1  ...     1             0            0\n",
              "5  LP001054           0          1  ...     1             1            1\n",
              "6  LP001055           1          1  ...     0             0            0\n",
              "7  LP001056           2          1  ...     1             0            1\n",
              "8  LP001059           2          0  ...     1             0            1\n",
              "9  LP001067           0          1  ...     1             0            0\n",
              "\n",
              "[10 rows x 11 columns]"
            ]
          },
          "metadata": {
            "tags": []
          },
          "execution_count": 68
        }
      ]
    },
    {
      "cell_type": "markdown",
      "metadata": {
        "papermill": {
          "duration": 0.078602,
          "end_time": "2021-04-22T06:55:52.999876",
          "exception": false,
          "start_time": "2021-04-22T06:55:52.921274",
          "status": "completed"
        },
        "tags": [],
        "id": "compact-hayes"
      },
      "source": [
        "# Visualizing the correlations and relation"
      ],
      "id": "compact-hayes"
    },
    {
      "cell_type": "markdown",
      "metadata": {
        "papermill": {
          "duration": 0.078932,
          "end_time": "2021-04-22T06:55:53.158222",
          "exception": false,
          "start_time": "2021-04-22T06:55:53.079290",
          "status": "completed"
        },
        "tags": [],
        "id": "molecular-assets"
      },
      "source": [
        "### Plot between LoanAmount, Applicant Income, Employement and Gender\n",
        "\n",
        "*What is the relation of Loan taken between men and women?<br> Did the employed ones were greater in number to take Loan ?<br> What is distribution of Loan Amount and Income?*"
      ],
      "id": "molecular-assets"
    },
    {
      "cell_type": "code",
      "metadata": {
        "execution": {
          "iopub.execute_input": "2021-04-22T06:55:53.321294Z",
          "iopub.status.busy": "2021-04-22T06:55:53.320603Z",
          "iopub.status.idle": "2021-04-22T06:55:54.632124Z",
          "shell.execute_reply": "2021-04-22T06:55:54.632650Z"
        },
        "papermill": {
          "duration": 1.394553,
          "end_time": "2021-04-22T06:55:54.632829",
          "exception": false,
          "start_time": "2021-04-22T06:55:53.238276",
          "status": "completed"
        },
        "tags": [],
        "colab": {
          "base_uri": "https://localhost:8080/",
          "height": 472
        },
        "id": "imported-smith",
        "outputId": "049c4912-21b3-479d-859f-b0ab45577b43"
      },
      "source": [
        "g = sns.lmplot(x='ApplicantIncome',y='LoanAmount',data= train , col='employed_Yes', hue='Male',\n",
        "          palette= [\"Red\" , \"Blue\",\"Yellow\"] ,aspect=1.2,size=6)\n",
        "g.set(ylim=(0, 800))\n",
        "##Relation Between the Male or female Applicant's income , Loan taken and Self employment."
      ],
      "id": "imported-smith",
      "execution_count": 40,
      "outputs": [
        {
          "output_type": "execute_result",
          "data": {
            "text/plain": [
              "<seaborn.axisgrid.FacetGrid at 0x7fa040d1ef90>"
            ]
          },
          "metadata": {
            "tags": []
          },
          "execution_count": 40
        },
        {
          "output_type": "display_data",
          "data": {
            "image/png": "[encoded data removed]",
            "text/plain": [
              "<Figure size 1079.17x432 with 2 Axes>"
            ]
          },
          "metadata": {
            "tags": [],
            "needs_background": "light"
          }
        }
      ]
    },
    {
      "cell_type": "markdown",
      "metadata": {
        "papermill": {
          "duration": 0.08099,
          "end_time": "2021-04-22T06:55:54.797809",
          "exception": false,
          "start_time": "2021-04-22T06:55:54.716819",
          "status": "completed"
        },
        "tags": [],
        "id": "shared-bacteria"
      },
      "source": [
        "- Above graph tells:\n",
        "    - The male applicants take more amount of loan than female.\n",
        "    - The males are higher in number of \"NOT self employed\" category.\n",
        "    - The amount is still larger in the income range in (0 to 20000).\n",
        "    - Also we observe that majority of applicants are NOT self employed.\n",
        "    - Highest Loan amount taken is by the female applicant of about 700 which is NOT self employed.\n",
        "    - The majority of income taken is about 0-200 with income in the range 0-20000. \n",
        "    - The line plotted shows that with increase in income the amount of loan increases with almost same slope for the case of women in both the cases but a slightely lesser slope in the case of men in Self- Employed category as compared to non-self employed.\n"
      ],
      "id": "shared-bacteria"
    },
    {
      "cell_type": "markdown",
      "metadata": {
        "papermill": {
          "duration": 0.081987,
          "end_time": "2021-04-22T06:55:54.961577",
          "exception": false,
          "start_time": "2021-04-22T06:55:54.879590",
          "status": "completed"
        },
        "tags": [],
        "id": "innocent-girlfriend"
      },
      "source": [
        "### Boxplots for  relation between Property area, amount of Loan and Education qualification "
      ],
      "id": "innocent-girlfriend"
    },
    {
      "cell_type": "markdown",
      "metadata": {
        "papermill": {
          "duration": 0.083292,
          "end_time": "2021-04-22T06:55:55.129666",
          "exception": false,
          "start_time": "2021-04-22T06:55:55.046374",
          "status": "completed"
        },
        "tags": [],
        "id": "nutritional-patrick"
      },
      "source": [
        "Further we analyse the relation between education status,loan taken and property area \n"
      ],
      "id": "nutritional-patrick"
    },
    {
      "cell_type": "markdown",
      "metadata": {
        "papermill": {
          "duration": 0.08116,
          "end_time": "2021-04-22T06:55:55.291604",
          "exception": false,
          "start_time": "2021-04-22T06:55:55.210444",
          "status": "completed"
        },
        "tags": [],
        "id": "desperate-eleven"
      },
      "source": [
        "- Property_Area: \n",
        "    - `Urban      :0`\n",
        "    - `Semiurban  :1`\n",
        "    - `Rural      :2`"
      ],
      "id": "desperate-eleven"
    },
    {
      "cell_type": "code",
      "metadata": {
        "execution": {
          "iopub.execute_input": "2021-04-22T06:55:55.458124Z",
          "iopub.status.busy": "2021-04-22T06:55:55.457438Z",
          "iopub.status.idle": "2021-04-22T06:55:55.747978Z",
          "shell.execute_reply": "2021-04-22T06:55:55.748468Z"
        },
        "papermill": {
          "duration": 0.376172,
          "end_time": "2021-04-22T06:55:55.748664",
          "exception": false,
          "start_time": "2021-04-22T06:55:55.372492",
          "status": "completed"
        },
        "tags": [],
        "colab": {
          "base_uri": "https://localhost:8080/",
          "height": 352
        },
        "id": "contained-greek",
        "outputId": "1eff6004-e1ff-4708-be22-5731227178ae"
      },
      "source": [
        "plt.figure(figsize=(10,5))\n",
        "sns.boxplot(x=\"Property_Area\", y=\"LoanAmount\", hue=\"Education\",data=train, palette=\"coolwarm\")"
      ],
      "id": "contained-greek",
      "execution_count": 41,
      "outputs": [
        {
          "output_type": "execute_result",
          "data": {
            "text/plain": [
              "<matplotlib.axes._subplots.AxesSubplot at 0x7fa0384204d0>"
            ]
          },
          "metadata": {
            "tags": []
          },
          "execution_count": 41
        },
        {
          "output_type": "display_data",
          "data": {
            "image/png": "[encoded data removed]",
            "text/plain": [
              "<Figure size 720x360 with 1 Axes>"
            ]
          },
          "metadata": {
            "tags": [],
            "needs_background": "light"
          }
        }
      ]
    },
    {
      "cell_type": "markdown",
      "metadata": {
        "papermill": {
          "duration": 0.084435,
          "end_time": "2021-04-22T06:55:55.915300",
          "exception": false,
          "start_time": "2021-04-22T06:55:55.830865",
          "status": "completed"
        },
        "tags": [],
        "id": "respective-visibility"
      },
      "source": [
        "- The above boxplot signifies that,\n",
        "    - In the Urban area the non graduates take slightly more loan than graduates. \n",
        "    - In the Rural and semiurban area the graduates take more amount of Loan than non graduates \n",
        "    - The higher values of Loan are mostly from Urban area \n",
        "    - The semiurban area and rural area both have one unusual Loan amount close to zero.\n"
      ],
      "id": "respective-visibility"
    },
    {
      "cell_type": "markdown",
      "metadata": {
        "papermill": {
          "duration": 0.089949,
          "end_time": "2021-04-22T06:55:56.090018",
          "exception": false,
          "start_time": "2021-04-22T06:55:56.000069",
          "status": "completed"
        },
        "tags": [],
        "id": "genuine-illustration"
      },
      "source": [
        "### Crosstab for relation between Credit History and Loan status."
      ],
      "id": "genuine-illustration"
    },
    {
      "cell_type": "code",
      "metadata": {
        "execution": {
          "iopub.execute_input": "2021-04-22T06:55:56.256650Z",
          "iopub.status.busy": "2021-04-22T06:55:56.255947Z",
          "iopub.status.idle": "2021-04-22T06:55:56.263047Z",
          "shell.execute_reply": "2021-04-22T06:55:56.263559Z"
        },
        "papermill": {
          "duration": 0.092187,
          "end_time": "2021-04-22T06:55:56.263728",
          "exception": false,
          "start_time": "2021-04-22T06:55:56.171541",
          "status": "completed"
        },
        "tags": [],
        "colab": {
          "base_uri": "https://localhost:8080/"
        },
        "id": "packed-azerbaijan",
        "outputId": "52558632-f941-4eb1-d576-00dd1d7dae55"
      },
      "source": [
        "train.Credit_History.value_counts()"
      ],
      "id": "packed-azerbaijan",
      "execution_count": 42,
      "outputs": [
        {
          "output_type": "execute_result",
          "data": {
            "text/plain": [
              "1.0    525\n",
              "0.0     89\n",
              "Name: Credit_History, dtype: int64"
            ]
          },
          "metadata": {
            "tags": []
          },
          "execution_count": 42
        }
      ]
    },
    {
      "cell_type": "code",
      "metadata": {
        "execution": {
          "iopub.execute_input": "2021-04-22T06:55:56.432159Z",
          "iopub.status.busy": "2021-04-22T06:55:56.431411Z",
          "iopub.status.idle": "2021-04-22T06:55:56.631467Z",
          "shell.execute_reply": "2021-04-22T06:55:56.630924Z"
        },
        "papermill": {
          "duration": 0.285408,
          "end_time": "2021-04-22T06:55:56.631615",
          "exception": false,
          "start_time": "2021-04-22T06:55:56.346207",
          "status": "completed"
        },
        "tags": [],
        "colab": {
          "base_uri": "https://localhost:8080/",
          "height": 302
        },
        "id": "valuable-cleanup",
        "outputId": "aae28eab-a415-478f-a1eb-3da24c2fb2eb"
      },
      "source": [
        "lc = pd.crosstab(train['Credit_History'], train['Loan_Status'])\n",
        "lc.plot(kind='bar', stacked=True, color=['red','blue'], grid=False)"
      ],
      "id": "valuable-cleanup",
      "execution_count": 43,
      "outputs": [
        {
          "output_type": "execute_result",
          "data": {
            "text/plain": [
              "<matplotlib.axes._subplots.AxesSubplot at 0x7fa036b83350>"
            ]
          },
          "metadata": {
            "tags": []
          },
          "execution_count": 43
        },
        {
          "output_type": "display_data",
          "data": {
            "image/png": "[encoded data removed]",
            "text/plain": [
              "<Figure size 432x288 with 1 Axes>"
            ]
          },
          "metadata": {
            "tags": [],
            "needs_background": "light"
          }
        }
      ]
    },
    {
      "cell_type": "markdown",
      "metadata": {
        "papermill": {
          "duration": 0.086433,
          "end_time": "2021-04-22T06:55:56.804012",
          "exception": false,
          "start_time": "2021-04-22T06:55:56.717579",
          "status": "completed"
        },
        "tags": [],
        "id": "activated-satin"
      },
      "source": [
        "- The credit history vs Loan Status indicates:\n",
        "    - The good credit history applicants have more chances of getting Loan.\n",
        "    - With better credit History the Loan amount given was greater too.\n",
        "    - But many were not given loan in the range 0-100\n",
        "    - The applicant with poor credit history were handled in the range 0-100 only."
      ],
      "id": "activated-satin"
    },
    {
      "cell_type": "code",
      "metadata": {
        "execution": {
          "iopub.execute_input": "2021-04-22T06:55:57.029219Z",
          "iopub.status.busy": "2021-04-22T06:55:56.984085Z",
          "iopub.status.idle": "2021-04-22T06:55:57.837950Z",
          "shell.execute_reply": "2021-04-22T06:55:57.837365Z"
        },
        "papermill": {
          "duration": 0.948748,
          "end_time": "2021-04-22T06:55:57.838107",
          "exception": false,
          "start_time": "2021-04-22T06:55:56.889359",
          "status": "completed"
        },
        "tags": [],
        "colab": {
          "base_uri": "https://localhost:8080/",
          "height": 481
        },
        "id": "biological-iraqi",
        "outputId": "ad875405-d233-440a-deed-45cc4e1e8474"
      },
      "source": [
        "plt.figure(figsize=(9,6))\n",
        "sns.heatmap(train.drop('Loan_Status',axis=1).corr(), vmax=0.6, square=True, annot=True)"
      ],
      "id": "biological-iraqi",
      "execution_count": 44,
      "outputs": [
        {
          "output_type": "execute_result",
          "data": {
            "text/plain": [
              "<matplotlib.axes._subplots.AxesSubplot at 0x7fa040d65a10>"
            ]
          },
          "metadata": {
            "tags": []
          },
          "execution_count": 44
        },
        {
          "output_type": "display_data",
          "data": {
            "image/png": "[encoded data removed]",
            "text/plain": [
              "<Figure size 648x432 with 2 Axes>"
            ]
          },
          "metadata": {
            "tags": [],
            "needs_background": "light"
          }
        }
      ]
    },
    {
      "cell_type": "markdown",
      "metadata": {
        "papermill": {
          "duration": 0.088988,
          "end_time": "2021-04-22T06:55:58.017959",
          "exception": false,
          "start_time": "2021-04-22T06:55:57.928971",
          "status": "completed"
        },
        "tags": [],
        "id": "celtic-classification"
      },
      "source": [
        "## Prediction"
      ],
      "id": "celtic-classification"
    },
    {
      "cell_type": "markdown",
      "metadata": {
        "papermill": {
          "duration": 0.088417,
          "end_time": "2021-04-22T06:55:58.192888",
          "exception": false,
          "start_time": "2021-04-22T06:55:58.104471",
          "status": "completed"
        },
        "tags": [],
        "id": "arabic-swimming"
      },
      "source": [
        "The problem is of **Classification** as observed and concluded from the data and visualisations."
      ],
      "id": "arabic-swimming"
    },
    {
      "cell_type": "code",
      "metadata": {
        "execution": {
          "iopub.execute_input": "2021-04-22T06:55:58.372596Z",
          "iopub.status.busy": "2021-04-22T06:55:58.371574Z",
          "iopub.status.idle": "2021-04-22T06:55:58.378861Z",
          "shell.execute_reply": "2021-04-22T06:55:58.378252Z"
        },
        "papermill": {
          "duration": 0.099892,
          "end_time": "2021-04-22T06:55:58.379017",
          "exception": false,
          "start_time": "2021-04-22T06:55:58.279125",
          "status": "completed"
        },
        "tags": [],
        "id": "fixed-procurement"
      },
      "source": [
        "X = train.drop('Loan_Status' , axis = 1 )\n",
        "y = train['Loan_Status']\n",
        "\n",
        "X_train ,X_test , y_train , y_test = train_test_split(X , y , test_size = 0.3 , random_state =102)"
      ],
      "id": "fixed-procurement",
      "execution_count": 45,
      "outputs": []
    },
    {
      "cell_type": "code",
      "metadata": {
        "execution": {
          "iopub.execute_input": "2021-04-22T06:55:58.559690Z",
          "iopub.status.busy": "2021-04-22T06:55:58.559001Z",
          "iopub.status.idle": "2021-04-22T06:55:58.593763Z",
          "shell.execute_reply": "2021-04-22T06:55:58.594282Z"
        },
        "papermill": {
          "duration": 0.128977,
          "end_time": "2021-04-22T06:55:58.594473",
          "exception": false,
          "start_time": "2021-04-22T06:55:58.465496",
          "status": "completed"
        },
        "tags": [],
        "colab": {
          "base_uri": "https://localhost:8080/"
        },
        "id": "recognized-serve",
        "outputId": "039a63c9-77b9-43ca-fd4a-9525142a1180"
      },
      "source": [
        "from sklearn.linear_model import LogisticRegression\n",
        "logmodel = LogisticRegression()\n",
        "logmodel.fit(X_train , y_train)\n",
        "pred_l = logmodel.predict(X_test)\n",
        "acc_l = accuracy_score(y_test , pred_l)*100\n",
        "acc_l"
      ],
      "id": "recognized-serve",
      "execution_count": 46,
      "outputs": [
        {
          "output_type": "execute_result",
          "data": {
            "text/plain": [
              "83.78378378378379"
            ]
          },
          "metadata": {
            "tags": []
          },
          "execution_count": 46
        }
      ]
    },
    {
      "cell_type": "code",
      "metadata": {
        "execution": {
          "iopub.execute_input": "2021-04-22T06:55:58.771373Z",
          "iopub.status.busy": "2021-04-22T06:55:58.770611Z",
          "iopub.status.idle": "2021-04-22T06:55:59.132398Z",
          "shell.execute_reply": "2021-04-22T06:55:59.131813Z"
        },
        "papermill": {
          "duration": 0.451275,
          "end_time": "2021-04-22T06:55:59.132540",
          "exception": false,
          "start_time": "2021-04-22T06:55:58.681265",
          "status": "completed"
        },
        "tags": [],
        "colab": {
          "base_uri": "https://localhost:8080/"
        },
        "id": "instant-heating",
        "outputId": "97d01c3f-7b0e-4277-f9ad-81be6d09cd57"
      },
      "source": [
        "\n",
        "random_forest = RandomForestClassifier(n_estimators= 100)\n",
        "random_forest.fit(X_train, y_train)\n",
        "pred_rf = random_forest.predict(X_test)\n",
        "acc_rf = accuracy_score(y_test , pred_rf)*100\n",
        "acc_rf"
      ],
      "id": "instant-heating",
      "execution_count": 47,
      "outputs": [
        {
          "output_type": "execute_result",
          "data": {
            "text/plain": [
              "80.0"
            ]
          },
          "metadata": {
            "tags": []
          },
          "execution_count": 47
        }
      ]
    },
    {
      "cell_type": "code",
      "metadata": {
        "execution": {
          "iopub.execute_input": "2021-04-22T06:55:59.328613Z",
          "iopub.status.busy": "2021-04-22T06:55:59.327558Z",
          "iopub.status.idle": "2021-04-22T06:55:59.347989Z",
          "shell.execute_reply": "2021-04-22T06:55:59.347344Z"
        },
        "papermill": {
          "duration": 0.116549,
          "end_time": "2021-04-22T06:55:59.348127",
          "exception": false,
          "start_time": "2021-04-22T06:55:59.231578",
          "status": "completed"
        },
        "tags": [],
        "colab": {
          "base_uri": "https://localhost:8080/"
        },
        "id": "formed-heater",
        "outputId": "6e6505e7-087d-47f0-987d-baea9c532c87"
      },
      "source": [
        "\n",
        "knn = KNeighborsClassifier(n_neighbors = 3)\n",
        "knn.fit(X_train, y_train)\n",
        "pred_knn = knn.predict(X_test)\n",
        "acc_knn = accuracy_score(y_test , pred_knn)*100\n",
        "acc_knn"
      ],
      "id": "formed-heater",
      "execution_count": 48,
      "outputs": [
        {
          "output_type": "execute_result",
          "data": {
            "text/plain": [
              "61.08108108108108"
            ]
          },
          "metadata": {
            "tags": []
          },
          "execution_count": 48
        }
      ]
    },
    {
      "cell_type": "code",
      "metadata": {
        "execution": {
          "iopub.execute_input": "2021-04-22T06:55:59.532652Z",
          "iopub.status.busy": "2021-04-22T06:55:59.531555Z",
          "iopub.status.idle": "2021-04-22T06:55:59.541728Z",
          "shell.execute_reply": "2021-04-22T06:55:59.541113Z"
        },
        "papermill": {
          "duration": 0.105649,
          "end_time": "2021-04-22T06:55:59.541880",
          "exception": false,
          "start_time": "2021-04-22T06:55:59.436231",
          "status": "completed"
        },
        "tags": [],
        "colab": {
          "base_uri": "https://localhost:8080/"
        },
        "id": "capital-transport",
        "outputId": "1ba56800-38ff-4b95-e915-8d9965cf246a"
      },
      "source": [
        "gaussian = GaussianNB()\n",
        "gaussian.fit(X_train, y_train)\n",
        "pred_gb = gaussian.predict(X_test)\n",
        "acc_gb = accuracy_score(y_test , pred_gb)*100\n",
        "acc_gb"
      ],
      "id": "capital-transport",
      "execution_count": 49,
      "outputs": [
        {
          "output_type": "execute_result",
          "data": {
            "text/plain": [
              "82.16216216216216"
            ]
          },
          "metadata": {
            "tags": []
          },
          "execution_count": 49
        }
      ]
    },
    {
      "cell_type": "code",
      "metadata": {
        "execution": {
          "iopub.execute_input": "2021-04-22T06:55:59.735451Z",
          "iopub.status.busy": "2021-04-22T06:55:59.734629Z",
          "iopub.status.idle": "2021-04-22T06:55:59.757847Z",
          "shell.execute_reply": "2021-04-22T06:55:59.757183Z"
        },
        "papermill": {
          "duration": 0.119859,
          "end_time": "2021-04-22T06:55:59.757988",
          "exception": false,
          "start_time": "2021-04-22T06:55:59.638129",
          "status": "completed"
        },
        "tags": [],
        "colab": {
          "base_uri": "https://localhost:8080/"
        },
        "id": "greenhouse-price",
        "outputId": "35f150c6-d820-4d57-fae9-c18fc5c396ca"
      },
      "source": [
        "svc = SVC()\n",
        "svc.fit(X_train, y_train)\n",
        "pred_svm = svc.predict(X_test)\n",
        "acc_svm = accuracy_score(y_test , pred_svm)*100\n",
        "acc_svm"
      ],
      "id": "greenhouse-price",
      "execution_count": 50,
      "outputs": [
        {
          "output_type": "execute_result",
          "data": {
            "text/plain": [
              "70.27027027027027"
            ]
          },
          "metadata": {
            "tags": []
          },
          "execution_count": 50
        }
      ]
    },
    {
      "cell_type": "code",
      "metadata": {
        "execution": {
          "iopub.execute_input": "2021-04-22T06:55:59.950754Z",
          "iopub.status.busy": "2021-04-22T06:55:59.945239Z",
          "iopub.status.idle": "2021-04-22T06:56:00.063731Z",
          "shell.execute_reply": "2021-04-22T06:56:00.063053Z"
        },
        "papermill": {
          "duration": 0.216889,
          "end_time": "2021-04-22T06:56:00.063906",
          "exception": false,
          "start_time": "2021-04-22T06:55:59.847017",
          "status": "completed"
        },
        "tags": [],
        "colab": {
          "base_uri": "https://localhost:8080/"
        },
        "id": "educational-table",
        "outputId": "5064ec4c-e8a8-4d69-dafd-4e88990e6c18"
      },
      "source": [
        "gbk = GradientBoostingClassifier()\n",
        "gbk.fit(X_train, y_train)\n",
        "pred_gbc = gbk.predict(X_test)\n",
        "acc_gbc = accuracy_score(y_test , pred_gbc)*100\n",
        "acc_gbc"
      ],
      "id": "educational-table",
      "execution_count": 51,
      "outputs": [
        {
          "output_type": "execute_result",
          "data": {
            "text/plain": [
              "82.16216216216216"
            ]
          },
          "metadata": {
            "tags": []
          },
          "execution_count": 51
        }
      ]
    },
    {
      "cell_type": "code",
      "metadata": {
        "execution": {
          "iopub.execute_input": "2021-04-22T06:56:00.259309Z",
          "iopub.status.busy": "2021-04-22T06:56:00.258225Z",
          "iopub.status.idle": "2021-04-22T06:56:00.263116Z",
          "shell.execute_reply": "2021-04-22T06:56:00.262427Z"
        },
        "papermill": {
          "duration": 0.108316,
          "end_time": "2021-04-22T06:56:00.263274",
          "exception": false,
          "start_time": "2021-04-22T06:56:00.154958",
          "status": "completed"
        },
        "tags": [],
        "colab": {
          "base_uri": "https://localhost:8080/",
          "height": 233
        },
        "id": "ongoing-introduction",
        "outputId": "6a460781-0d0e-4fbf-88e2-fc44a33ff424"
      },
      "source": [
        "## Arranging the Accuracy results\n",
        "models = pd.DataFrame({\n",
        "    'Model': ['Logistic Regression', 'Random Forrest','K- Nearest Neighbour' ,\n",
        "             'Naive Bayes' , 'SVM','Gradient Boosting Classifier'],\n",
        "    'Score': [acc_l , acc_rf , acc_knn , acc_gb ,acc_svm ,acc_gbc ]})\n",
        "models.sort_values(by='Score', ascending=False)"
      ],
      "id": "ongoing-introduction",
      "execution_count": 52,
      "outputs": [
        {
          "output_type": "execute_result",
          "data": {
            "text/html": [
              "<div>\n",
              "<style scoped>\n",
              "    .dataframe tbody tr th:only-of-type {\n",
              "        vertical-align: middle;\n",
              "    }\n",
              "\n",
              "    .dataframe tbody tr th {\n",
              "        vertical-align: top;\n",
              "    }\n",
              "\n",
              "    .dataframe thead th {\n",
              "        text-align: right;\n",
              "    }\n",
              "</style>\n",
              "<table border=\"1\" class=\"dataframe\">\n",
              "  <thead>\n",
              "    <tr style=\"text-align: right;\">\n",
              "      <th></th>\n",
              "      <th>Model</th>\n",
              "      <th>Score</th>\n",
              "    </tr>\n",
              "  </thead>\n",
              "  <tbody>\n",
              "    <tr>\n",
              "      <th>0</th>\n",
              "      <td>Logistic Regression</td>\n",
              "      <td>83.783784</td>\n",
              "    </tr>\n",
              "    <tr>\n",
              "      <th>3</th>\n",
              "      <td>Naive Bayes</td>\n",
              "      <td>82.162162</td>\n",
              "    </tr>\n",
              "    <tr>\n",
              "      <th>5</th>\n",
              "      <td>Gradient Boosting Classifier</td>\n",
              "      <td>82.162162</td>\n",
              "    </tr>\n",
              "    <tr>\n",
              "      <th>1</th>\n",
              "      <td>Random Forrest</td>\n",
              "      <td>80.000000</td>\n",
              "    </tr>\n",
              "    <tr>\n",
              "      <th>4</th>\n",
              "      <td>SVM</td>\n",
              "      <td>70.270270</td>\n",
              "    </tr>\n",
              "    <tr>\n",
              "      <th>2</th>\n",
              "      <td>K- Nearest Neighbour</td>\n",
              "      <td>61.081081</td>\n",
              "    </tr>\n",
              "  </tbody>\n",
              "</table>\n",
              "</div>"
            ],
            "text/plain": [
              "                          Model      Score\n",
              "0           Logistic Regression  83.783784\n",
              "3                   Naive Bayes  82.162162\n",
              "5  Gradient Boosting Classifier  82.162162\n",
              "1                Random Forrest  80.000000\n",
              "4                           SVM  70.270270\n",
              "2          K- Nearest Neighbour  61.081081"
            ]
          },
          "metadata": {
            "tags": []
          },
          "execution_count": 52
        }
      ]
    },
    {
      "cell_type": "markdown",
      "metadata": {
        "papermill": {
          "duration": 0.101238,
          "end_time": "2021-04-22T06:56:00.466300",
          "exception": false,
          "start_time": "2021-04-22T06:56:00.365062",
          "status": "completed"
        },
        "tags": [],
        "id": "billion-holly"
      },
      "source": [
        "The highest classification accuracy is shown by Logistic Regression of about 83.24 %\n",
        "\n",
        "Let us Check th feature importance,"
      ],
      "id": "billion-holly"
    },
    {
      "cell_type": "code",
      "metadata": {
        "execution": {
          "iopub.execute_input": "2021-04-22T06:56:00.733822Z",
          "iopub.status.busy": "2021-04-22T06:56:00.732945Z",
          "iopub.status.idle": "2021-04-22T06:56:00.738889Z",
          "shell.execute_reply": "2021-04-22T06:56:00.738154Z"
        },
        "papermill": {
          "duration": 0.124163,
          "end_time": "2021-04-22T06:56:00.739068",
          "exception": false,
          "start_time": "2021-04-22T06:56:00.614905",
          "status": "completed"
        },
        "tags": [],
        "colab": {
          "base_uri": "https://localhost:8080/",
          "height": 387
        },
        "id": "reliable-employment",
        "outputId": "f2e76328-36c4-4014-fc90-50164c90a92c"
      },
      "source": [
        "importances = pd.DataFrame({'Features':X_train.columns,'Importance':np.round(random_forest.feature_importances_,3)})\n",
        "importances = importances.sort_values('Importance',ascending=False).set_index('Features')\n",
        "importances.head(11) "
      ],
      "id": "reliable-employment",
      "execution_count": 53,
      "outputs": [
        {
          "output_type": "execute_result",
          "data": {
            "text/html": [
              "<div>\n",
              "<style scoped>\n",
              "    .dataframe tbody tr th:only-of-type {\n",
              "        vertical-align: middle;\n",
              "    }\n",
              "\n",
              "    .dataframe tbody tr th {\n",
              "        vertical-align: top;\n",
              "    }\n",
              "\n",
              "    .dataframe thead th {\n",
              "        text-align: right;\n",
              "    }\n",
              "</style>\n",
              "<table border=\"1\" class=\"dataframe\">\n",
              "  <thead>\n",
              "    <tr style=\"text-align: right;\">\n",
              "      <th></th>\n",
              "      <th>Importance</th>\n",
              "    </tr>\n",
              "    <tr>\n",
              "      <th>Features</th>\n",
              "      <th></th>\n",
              "    </tr>\n",
              "  </thead>\n",
              "  <tbody>\n",
              "    <tr>\n",
              "      <th>Credit_History</th>\n",
              "      <td>0.246</td>\n",
              "    </tr>\n",
              "    <tr>\n",
              "      <th>ApplicantIncome</th>\n",
              "      <td>0.225</td>\n",
              "    </tr>\n",
              "    <tr>\n",
              "      <th>LoanAmount</th>\n",
              "      <td>0.208</td>\n",
              "    </tr>\n",
              "    <tr>\n",
              "      <th>CoapplicantIncome</th>\n",
              "      <td>0.118</td>\n",
              "    </tr>\n",
              "    <tr>\n",
              "      <th>Dependents</th>\n",
              "      <td>0.055</td>\n",
              "    </tr>\n",
              "    <tr>\n",
              "      <th>Property_Area</th>\n",
              "      <td>0.052</td>\n",
              "    </tr>\n",
              "    <tr>\n",
              "      <th>married_Yes</th>\n",
              "      <td>0.028</td>\n",
              "    </tr>\n",
              "    <tr>\n",
              "      <th>Education</th>\n",
              "      <td>0.025</td>\n",
              "    </tr>\n",
              "    <tr>\n",
              "      <th>Male</th>\n",
              "      <td>0.024</td>\n",
              "    </tr>\n",
              "    <tr>\n",
              "      <th>employed_Yes</th>\n",
              "      <td>0.020</td>\n",
              "    </tr>\n",
              "  </tbody>\n",
              "</table>\n",
              "</div>"
            ],
            "text/plain": [
              "                   Importance\n",
              "Features                     \n",
              "Credit_History          0.246\n",
              "ApplicantIncome         0.225\n",
              "LoanAmount              0.208\n",
              "CoapplicantIncome       0.118\n",
              "Dependents              0.055\n",
              "Property_Area           0.052\n",
              "married_Yes             0.028\n",
              "Education               0.025\n",
              "Male                    0.024\n",
              "employed_Yes            0.020"
            ]
          },
          "metadata": {
            "tags": []
          },
          "execution_count": 53
        }
      ]
    },
    {
      "cell_type": "code",
      "metadata": {
        "execution": {
          "iopub.execute_input": "2021-04-22T06:56:00.976791Z",
          "iopub.status.busy": "2021-04-22T06:56:00.973099Z",
          "iopub.status.idle": "2021-04-22T06:56:01.169142Z",
          "shell.execute_reply": "2021-04-22T06:56:01.169690Z"
        },
        "papermill": {
          "duration": 0.330021,
          "end_time": "2021-04-22T06:56:01.169893",
          "exception": false,
          "start_time": "2021-04-22T06:56:00.839872",
          "status": "completed"
        },
        "tags": [],
        "colab": {
          "base_uri": "https://localhost:8080/",
          "height": 382
        },
        "id": "essential-settlement",
        "outputId": "95825059-c406-4c2c-9b16-3d8e31515a97"
      },
      "source": [
        "importances.plot.bar()"
      ],
      "id": "essential-settlement",
      "execution_count": 54,
      "outputs": [
        {
          "output_type": "execute_result",
          "data": {
            "text/plain": [
              "<matplotlib.axes._subplots.AxesSubplot at 0x7fa0368b2c90>"
            ]
          },
          "metadata": {
            "tags": []
          },
          "execution_count": 54
        },
        {
          "output_type": "display_data",
          "data": {
            "image/png": "[encoded data removed]",
            "text/plain": [
              "<Figure size 432x288 with 1 Axes>"
            ]
          },
          "metadata": {
            "tags": [],
            "needs_background": "light"
          }
        }
      ]
    },
    {
      "cell_type": "markdown",
      "metadata": {
        "papermill": {
          "duration": 0.091828,
          "end_time": "2021-04-22T06:56:01.353556",
          "exception": false,
          "start_time": "2021-04-22T06:56:01.261728",
          "status": "completed"
        },
        "tags": [],
        "id": "daily-surgery"
      },
      "source": [
        "Credit History has the maximum importance and empoloyment has the least!"
      ],
      "id": "daily-surgery"
    },
    {
      "cell_type": "markdown",
      "metadata": {
        "papermill": {
          "duration": 0.09134,
          "end_time": "2021-04-22T06:56:01.537054",
          "exception": false,
          "start_time": "2021-04-22T06:56:01.445714",
          "status": "completed"
        },
        "tags": [],
        "id": "young-eating"
      },
      "source": [
        "### Summarizing\n",
        "\n",
        "The Loan status has better relation with features such as Credit History, Applicant's Income, Loan Amount needed by them, Family status(Depenedents) and Property Area which are generally considered by the loan providing organisations. "
      ],
      "id": "young-eating"
    },
    {
      "cell_type": "markdown",
      "metadata": {
        "papermill": {
          "duration": 0.09153,
          "end_time": "2021-04-22T06:56:01.720038",
          "exception": false,
          "start_time": "2021-04-22T06:56:01.628508",
          "status": "completed"
        },
        "tags": [],
        "id": "practical-making"
      },
      "source": [
        "Finally the we predict over unseen dataset using the Logistic Regression and Random Forest model"
      ],
      "id": "practical-making"
    },
    {
      "cell_type": "code",
      "metadata": {
        "execution": {
          "iopub.execute_input": "2021-04-22T06:56:01.908044Z",
          "iopub.status.busy": "2021-04-22T06:56:01.907409Z",
          "iopub.status.idle": "2021-04-22T06:56:01.912389Z",
          "shell.execute_reply": "2021-04-22T06:56:01.912901Z"
        },
        "papermill": {
          "duration": 0.101528,
          "end_time": "2021-04-22T06:56:01.913080",
          "exception": false,
          "start_time": "2021-04-22T06:56:01.811552",
          "status": "completed"
        },
        "tags": [],
        "id": "married-transcription"
      },
      "source": [
        "df_test = test.drop(['Loan_ID'], axis = 1)"
      ],
      "id": "married-transcription",
      "execution_count": 55,
      "outputs": []
    },
    {
      "cell_type": "code",
      "metadata": {
        "execution": {
          "iopub.execute_input": "2021-04-22T06:56:02.103050Z",
          "iopub.status.busy": "2021-04-22T06:56:02.102410Z",
          "iopub.status.idle": "2021-04-22T06:56:02.116834Z",
          "shell.execute_reply": "2021-04-22T06:56:02.116183Z"
        },
        "papermill": {
          "duration": 0.109065,
          "end_time": "2021-04-22T06:56:02.116982",
          "exception": false,
          "start_time": "2021-04-22T06:56:02.007917",
          "status": "completed"
        },
        "tags": [],
        "colab": {
          "base_uri": "https://localhost:8080/",
          "height": 202
        },
        "id": "meaning-gibson",
        "outputId": "16c7bf6e-9213-42c6-fe7c-41ecad98f73a"
      },
      "source": [
        "df_test.head()"
      ],
      "id": "meaning-gibson",
      "execution_count": 56,
      "outputs": [
        {
          "output_type": "execute_result",
          "data": {
            "text/html": [
              "<div>\n",
              "<style scoped>\n",
              "    .dataframe tbody tr th:only-of-type {\n",
              "        vertical-align: middle;\n",
              "    }\n",
              "\n",
              "    .dataframe tbody tr th {\n",
              "        vertical-align: top;\n",
              "    }\n",
              "\n",
              "    .dataframe thead th {\n",
              "        text-align: right;\n",
              "    }\n",
              "</style>\n",
              "<table border=\"1\" class=\"dataframe\">\n",
              "  <thead>\n",
              "    <tr style=\"text-align: right;\">\n",
              "      <th></th>\n",
              "      <th>Dependents</th>\n",
              "      <th>Education</th>\n",
              "      <th>ApplicantIncome</th>\n",
              "      <th>CoapplicantIncome</th>\n",
              "      <th>LoanAmount</th>\n",
              "      <th>Credit_History</th>\n",
              "      <th>Property_Area</th>\n",
              "      <th>Male</th>\n",
              "      <th>employed_Yes</th>\n",
              "      <th>married_Yes</th>\n",
              "    </tr>\n",
              "  </thead>\n",
              "  <tbody>\n",
              "    <tr>\n",
              "      <th>0</th>\n",
              "      <td>0</td>\n",
              "      <td>0</td>\n",
              "      <td>5720</td>\n",
              "      <td>0</td>\n",
              "      <td>110</td>\n",
              "      <td>1.0</td>\n",
              "      <td>0</td>\n",
              "      <td>1</td>\n",
              "      <td>0</td>\n",
              "      <td>1</td>\n",
              "    </tr>\n",
              "    <tr>\n",
              "      <th>1</th>\n",
              "      <td>1</td>\n",
              "      <td>0</td>\n",
              "      <td>3076</td>\n",
              "      <td>1500</td>\n",
              "      <td>126</td>\n",
              "      <td>1.0</td>\n",
              "      <td>0</td>\n",
              "      <td>1</td>\n",
              "      <td>0</td>\n",
              "      <td>1</td>\n",
              "    </tr>\n",
              "    <tr>\n",
              "      <th>2</th>\n",
              "      <td>2</td>\n",
              "      <td>0</td>\n",
              "      <td>5000</td>\n",
              "      <td>1800</td>\n",
              "      <td>208</td>\n",
              "      <td>1.0</td>\n",
              "      <td>0</td>\n",
              "      <td>1</td>\n",
              "      <td>0</td>\n",
              "      <td>1</td>\n",
              "    </tr>\n",
              "    <tr>\n",
              "      <th>3</th>\n",
              "      <td>2</td>\n",
              "      <td>0</td>\n",
              "      <td>2340</td>\n",
              "      <td>2546</td>\n",
              "      <td>100</td>\n",
              "      <td>1.0</td>\n",
              "      <td>0</td>\n",
              "      <td>1</td>\n",
              "      <td>0</td>\n",
              "      <td>1</td>\n",
              "    </tr>\n",
              "    <tr>\n",
              "      <th>4</th>\n",
              "      <td>0</td>\n",
              "      <td>1</td>\n",
              "      <td>3276</td>\n",
              "      <td>0</td>\n",
              "      <td>78</td>\n",
              "      <td>1.0</td>\n",
              "      <td>0</td>\n",
              "      <td>1</td>\n",
              "      <td>0</td>\n",
              "      <td>0</td>\n",
              "    </tr>\n",
              "  </tbody>\n",
              "</table>\n",
              "</div>"
            ],
            "text/plain": [
              "   Dependents  Education  ApplicantIncome  ...  Male  employed_Yes  married_Yes\n",
              "0           0          0             5720  ...     1             0            1\n",
              "1           1          0             3076  ...     1             0            1\n",
              "2           2          0             5000  ...     1             0            1\n",
              "3           2          0             2340  ...     1             0            1\n",
              "4           0          1             3276  ...     1             0            0\n",
              "\n",
              "[5 rows x 10 columns]"
            ]
          },
          "metadata": {
            "tags": []
          },
          "execution_count": 56
        }
      ]
    },
    {
      "cell_type": "code",
      "metadata": {
        "execution": {
          "iopub.execute_input": "2021-04-22T06:56:02.333595Z",
          "iopub.status.busy": "2021-04-22T06:56:02.332879Z",
          "iopub.status.idle": "2021-04-22T06:56:02.338950Z",
          "shell.execute_reply": "2021-04-22T06:56:02.339641Z"
        },
        "papermill": {
          "duration": 0.116898,
          "end_time": "2021-04-22T06:56:02.339845",
          "exception": false,
          "start_time": "2021-04-22T06:56:02.222947",
          "status": "completed"
        },
        "scrolled": true,
        "tags": [],
        "id": "virtual-dispute"
      },
      "source": [
        "p_log = logmodel.predict(df_test)"
      ],
      "id": "virtual-dispute",
      "execution_count": 57,
      "outputs": []
    },
    {
      "cell_type": "code",
      "metadata": {
        "execution": {
          "iopub.execute_input": "2021-04-22T06:56:02.536097Z",
          "iopub.status.busy": "2021-04-22T06:56:02.535479Z",
          "iopub.status.idle": "2021-04-22T06:56:02.557286Z",
          "shell.execute_reply": "2021-04-22T06:56:02.557798Z"
        },
        "papermill": {
          "duration": 0.117485,
          "end_time": "2021-04-22T06:56:02.558003",
          "exception": false,
          "start_time": "2021-04-22T06:56:02.440518",
          "status": "completed"
        },
        "tags": [],
        "id": "important-vintage"
      },
      "source": [
        "p_rf = random_forest.predict(df_test)"
      ],
      "id": "important-vintage",
      "execution_count": 58,
      "outputs": []
    },
    {
      "cell_type": "code",
      "metadata": {
        "execution": {
          "iopub.execute_input": "2021-04-22T06:56:02.746908Z",
          "iopub.status.busy": "2021-04-22T06:56:02.746172Z",
          "iopub.status.idle": "2021-04-22T06:56:02.752095Z",
          "shell.execute_reply": "2021-04-22T06:56:02.752620Z"
        },
        "papermill": {
          "duration": 0.101945,
          "end_time": "2021-04-22T06:56:02.752793",
          "exception": false,
          "start_time": "2021-04-22T06:56:02.650848",
          "status": "completed"
        },
        "tags": [],
        "id": "cross-listening"
      },
      "source": [
        "predict_combine = np.zeros((df_test.shape[0]))\n",
        "\n",
        "for i in range(0, test.shape[0]):\n",
        "    temp = p_log[i] + p_rf[i]\n",
        "    if temp>=2:\n",
        "        predict_combine[i] = 1\n",
        "predict_combine = predict_combine.astype('int')"
      ],
      "id": "cross-listening",
      "execution_count": 59,
      "outputs": []
    },
    {
      "cell_type": "code",
      "metadata": {
        "execution": {
          "iopub.execute_input": "2021-04-22T06:56:02.943159Z",
          "iopub.status.busy": "2021-04-22T06:56:02.942537Z",
          "iopub.status.idle": "2021-04-22T06:56:02.953789Z",
          "shell.execute_reply": "2021-04-22T06:56:02.953202Z"
        },
        "papermill": {
          "duration": 0.108417,
          "end_time": "2021-04-22T06:56:02.953951",
          "exception": false,
          "start_time": "2021-04-22T06:56:02.845534",
          "status": "completed"
        },
        "tags": [],
        "id": "selective-speed"
      },
      "source": [
        "submission = pd.DataFrame({\n",
        "        \"Loan_ID\": test[\"Loan_ID\"],\n",
        "        \"Loan_Status\": predict_combine\n",
        "    })\n",
        "\n",
        "submission.to_csv(\"results.csv\", encoding='utf-8', index=False)\n"
      ],
      "id": "selective-speed",
      "execution_count": 60,
      "outputs": []
    },
    {
      "cell_type": "markdown",
      "metadata": {
        "papermill": {
          "duration": 0.094327,
          "end_time": "2021-04-22T06:56:03.142033",
          "exception": false,
          "start_time": "2021-04-22T06:56:03.047706",
          "status": "completed"
        },
        "tags": [],
        "id": "pharmaceutical-seven"
      },
      "source": [
        "# Thank you\n"
      ],
      "id": "pharmaceutical-seven"
    }
  ]
}